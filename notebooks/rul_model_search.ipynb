{
 "cells": [
  {
   "cell_type": "markdown",
   "id": "e6beb5e4-ff44-40d0-9be8-755385175fbf",
   "metadata": {},
   "source": [
    "# RUL Prediction with LSTM\n",
    "b. Xs' and W by flight class\n",
    "c. Xs' and W and $\\theta$\n",
    "\n",
    "1. Load flight effects model and validate performance\n",
    "2. set up hyperparameter tuning for RUL prediction network (LSTM)\n",
    "3. Evaluate different lookback windows or implement adaptive window"
   ]
  },
  {
   "cell_type": "code",
   "execution_count": 114,
   "id": "14876c9c-eec6-4759-8fb4-aecfc1cc779a",
   "metadata": {},
   "outputs": [
    {
     "name": "stdout",
     "output_type": "stream",
     "text": [
      "/home/macslab/phm2021_data_challenge\n",
      "2.8.0\n",
      "[INFO] GPU?: <True> [PhysicalDevice(name='/physical_device:GPU:0', device_type='GPU')]\n",
      "expanding memory growth\n",
      "The autoreload extension is already loaded. To reload it, use:\n",
      "  %reload_ext autoreload\n"
     ]
    }
   ],
   "source": [
    "import os\n",
    "import sys\n",
    "import h5py\n",
    "import numpy as np\n",
    "import pandas as pd\n",
    "import matplotlib.pyplot as plt\n",
    "import seaborn as sns\n",
    "import joblib\n",
    "\n",
    "base_dir = os.path.dirname(os.getcwd())\n",
    "print(base_dir)\n",
    "sys.path.insert(1, base_dir)\n",
    "from package.api import DB as api\n",
    "import package.utils as utils\n",
    "import package.tuning as tuning\n",
    "utils.check_gpu()\n",
    "\n",
    "from sklearn.preprocessing import MinMaxScaler\n",
    "from sklearn.model_selection import train_test_split\n",
    "\n",
    "import tensorflow as tf\n",
    "from tensorflow import keras\n",
    "from tensorflow.keras import layers, regularizers, optimizers, metrics\n",
    "#import tensorflow_addons as tfa\n",
    "\n",
    "import keras_tuner as kt\n",
    "\n",
    "from kerastuner_tensorboard_logger import (\n",
    "    TensorBoardLogger,\n",
    "    setup_tb  # Optional\n",
    ")\n",
    "\n",
    "paths_df = pd.read_csv(base_dir + '/paths.csv')\n",
    "paths_df['path'] = base_dir + '/' + paths_df['path']\n",
    "\n",
    "Fc = 3\n",
    "dataset = 'DS08'\n",
    "log_location = base_dir + '/logs'\n",
    "model_location = base_dir + '/models'\n",
    "data_location = base_dir + '/data'\n",
    "data_header = f'Fc-{Fc}_dataset-{dataset}'\n",
    "\n",
    "\n",
    "%matplotlib inline\n",
    "%load_ext autoreload\n",
    "%autoreload 2"
   ]
  },
  {
   "cell_type": "markdown",
   "id": "0c7496b1-e239-4917-975d-478d0bcb62c8",
   "metadata": {},
   "source": [
    "## 0. Connect to db and load the data"
   ]
  },
  {
   "cell_type": "code",
   "execution_count": null,
   "id": "1552c4d0-86e4-43e6-bb60-44f823ff1db3",
   "metadata": {},
   "outputs": [],
   "source": []
  },
  {
   "cell_type": "code",
   "execution_count": 2,
   "id": "976772a0-a8b1-4db9-a563-6e06831e7f5b",
   "metadata": {},
   "outputs": [
    {
     "name": "stdout",
     "output_type": "stream",
     "text": [
      "[INFO] connecting to db.\n",
      "[INFO] connected.\n"
     ]
    }
   ],
   "source": [
    "# THESE ARE YOUR CREDENTIALS IN PLAIN TEXT!\n",
    "params = {'datasource.username': 'macslab', # the username of the logged in user\n",
    "            'datasource.password': 'Ch0colate!', \n",
    "            'datasource.database': 'ncmapss_db', # <- NO CHANGE \n",
    "            'datasource.url': '10.2.219.98', # <- or your database installation location\n",
    "            'datasource.port': '5432'} # <- most likely don't change\n",
    "#print(params)\n",
    "db, cur =  api.connect(params)\n",
    "db.set_session(autocommit=True)\n",
    "del(params)"
   ]
  },
  {
   "cell_type": "code",
   "execution_count": 4,
   "id": "90f2d50c-d262-40d7-8af6-2a9d21b29d81",
   "metadata": {},
   "outputs": [
    {
     "data": {
      "text/html": [
       "<div>\n",
       "<style scoped>\n",
       "    .dataframe tbody tr th:only-of-type {\n",
       "        vertical-align: middle;\n",
       "    }\n",
       "\n",
       "    .dataframe tbody tr th {\n",
       "        vertical-align: top;\n",
       "    }\n",
       "\n",
       "    .dataframe thead th {\n",
       "        text-align: right;\n",
       "    }\n",
       "</style>\n",
       "<table border=\"1\" class=\"dataframe\">\n",
       "  <thead>\n",
       "    <tr style=\"text-align: right;\">\n",
       "      <th></th>\n",
       "      <th>id</th>\n",
       "      <th>serial_number</th>\n",
       "      <th>age</th>\n",
       "      <th>eol</th>\n",
       "      <th>rul</th>\n",
       "      <th>group_id</th>\n",
       "      <th>Fc</th>\n",
       "      <th>unit</th>\n",
       "      <th>dataset</th>\n",
       "    </tr>\n",
       "  </thead>\n",
       "  <tbody>\n",
       "    <tr>\n",
       "      <th>0</th>\n",
       "      <td>1</td>\n",
       "      <td>xhJzs6e3</td>\n",
       "      <td>0.0</td>\n",
       "      <td>100.0</td>\n",
       "      <td>100.0</td>\n",
       "      <td>1</td>\n",
       "      <td>1</td>\n",
       "      <td>1</td>\n",
       "      <td>DS01-005</td>\n",
       "    </tr>\n",
       "    <tr>\n",
       "      <th>1</th>\n",
       "      <td>2</td>\n",
       "      <td>a2wH8lJP</td>\n",
       "      <td>0.0</td>\n",
       "      <td>75.0</td>\n",
       "      <td>75.0</td>\n",
       "      <td>1</td>\n",
       "      <td>3</td>\n",
       "      <td>2</td>\n",
       "      <td>DS01-005</td>\n",
       "    </tr>\n",
       "    <tr>\n",
       "      <th>2</th>\n",
       "      <td>3</td>\n",
       "      <td>zwaWwxPl</td>\n",
       "      <td>0.0</td>\n",
       "      <td>100.0</td>\n",
       "      <td>100.0</td>\n",
       "      <td>1</td>\n",
       "      <td>2</td>\n",
       "      <td>3</td>\n",
       "      <td>DS01-005</td>\n",
       "    </tr>\n",
       "    <tr>\n",
       "      <th>3</th>\n",
       "      <td>4</td>\n",
       "      <td>ByMDLFeB</td>\n",
       "      <td>0.0</td>\n",
       "      <td>95.0</td>\n",
       "      <td>95.0</td>\n",
       "      <td>1</td>\n",
       "      <td>1</td>\n",
       "      <td>4</td>\n",
       "      <td>DS01-005</td>\n",
       "    </tr>\n",
       "    <tr>\n",
       "      <th>4</th>\n",
       "      <td>5</td>\n",
       "      <td>rcedq8Jy</td>\n",
       "      <td>0.0</td>\n",
       "      <td>89.0</td>\n",
       "      <td>89.0</td>\n",
       "      <td>1</td>\n",
       "      <td>3</td>\n",
       "      <td>5</td>\n",
       "      <td>DS01-005</td>\n",
       "    </tr>\n",
       "  </tbody>\n",
       "</table>\n",
       "</div>"
      ],
      "text/plain": [
       "   id serial_number  age    eol    rul  group_id  Fc  unit   dataset\n",
       "0   1      xhJzs6e3  0.0  100.0  100.0         1   1     1  DS01-005\n",
       "1   2      a2wH8lJP  0.0   75.0   75.0         1   3     2  DS01-005\n",
       "2   3      zwaWwxPl  0.0  100.0  100.0         1   2     3  DS01-005\n",
       "3   4      ByMDLFeB  0.0   95.0   95.0         1   1     4  DS01-005\n",
       "4   5      rcedq8Jy  0.0   89.0   89.0         1   3     5  DS01-005"
      ]
     },
     "execution_count": 4,
     "metadata": {},
     "output_type": "execute_result"
    }
   ],
   "source": [
    "units_df = api._get_units(db=db)\n",
    "units_df.head()"
   ]
  },
  {
   "cell_type": "code",
   "execution_count": 12,
   "id": "7f51a644-7c0d-48e5-88e6-444d77b71c53",
   "metadata": {
    "tags": []
   },
   "outputs": [
    {
     "data": {
      "text/plain": [
       "array(['DS01-005', 'DS03-012', 'DS04', 'DS05', 'DS06', 'DS07',\n",
       "       'DS08a-009', 'DS08c-008'], dtype=object)"
      ]
     },
     "execution_count": 12,
     "metadata": {},
     "output_type": "execute_result"
    }
   ],
   "source": [
    "pd.unique(units_df['dataset'])"
   ]
  },
  {
   "cell_type": "code",
   "execution_count": 92,
   "id": "6ef576ed-dac6-4d46-b961-91a19192a856",
   "metadata": {
    "tags": []
   },
   "outputs": [
    {
     "data": {
      "text/html": [
       "<div>\n",
       "<style scoped>\n",
       "    .dataframe tbody tr th:only-of-type {\n",
       "        vertical-align: middle;\n",
       "    }\n",
       "\n",
       "    .dataframe tbody tr th {\n",
       "        vertical-align: top;\n",
       "    }\n",
       "\n",
       "    .dataframe thead th {\n",
       "        text-align: right;\n",
       "    }\n",
       "</style>\n",
       "<table border=\"1\" class=\"dataframe\">\n",
       "  <thead>\n",
       "    <tr style=\"text-align: right;\">\n",
       "      <th></th>\n",
       "      <th>id</th>\n",
       "      <th>serial_number</th>\n",
       "      <th>age</th>\n",
       "      <th>eol</th>\n",
       "      <th>rul</th>\n",
       "      <th>group_id</th>\n",
       "      <th>Fc</th>\n",
       "      <th>unit</th>\n",
       "      <th>dataset</th>\n",
       "    </tr>\n",
       "  </thead>\n",
       "  <tbody>\n",
       "    <tr>\n",
       "      <th>66</th>\n",
       "      <td>67</td>\n",
       "      <td>DH4gw7GB</td>\n",
       "      <td>0.0</td>\n",
       "      <td>51.0</td>\n",
       "      <td>51.0</td>\n",
       "      <td>1</td>\n",
       "      <td>3</td>\n",
       "      <td>2</td>\n",
       "      <td>DS08a-009</td>\n",
       "    </tr>\n",
       "    <tr>\n",
       "      <th>70</th>\n",
       "      <td>71</td>\n",
       "      <td>XTNVUYvx</td>\n",
       "      <td>0.0</td>\n",
       "      <td>58.0</td>\n",
       "      <td>58.0</td>\n",
       "      <td>1</td>\n",
       "      <td>3</td>\n",
       "      <td>6</td>\n",
       "      <td>DS08a-009</td>\n",
       "    </tr>\n",
       "    <tr>\n",
       "      <th>76</th>\n",
       "      <td>77</td>\n",
       "      <td>cHjtOlTA</td>\n",
       "      <td>0.0</td>\n",
       "      <td>58.0</td>\n",
       "      <td>58.0</td>\n",
       "      <td>2</td>\n",
       "      <td>3</td>\n",
       "      <td>12</td>\n",
       "      <td>DS08a-009</td>\n",
       "    </tr>\n",
       "    <tr>\n",
       "      <th>77</th>\n",
       "      <td>78</td>\n",
       "      <td>K32vLF2c</td>\n",
       "      <td>0.0</td>\n",
       "      <td>56.0</td>\n",
       "      <td>56.0</td>\n",
       "      <td>2</td>\n",
       "      <td>3</td>\n",
       "      <td>13</td>\n",
       "      <td>DS08a-009</td>\n",
       "    </tr>\n",
       "    <tr>\n",
       "      <th>78</th>\n",
       "      <td>79</td>\n",
       "      <td>mvqpgmYg</td>\n",
       "      <td>0.0</td>\n",
       "      <td>59.0</td>\n",
       "      <td>59.0</td>\n",
       "      <td>2</td>\n",
       "      <td>3</td>\n",
       "      <td>14</td>\n",
       "      <td>DS08a-009</td>\n",
       "    </tr>\n",
       "    <tr>\n",
       "      <th>80</th>\n",
       "      <td>81</td>\n",
       "      <td>VDsiPMEd</td>\n",
       "      <td>0.0</td>\n",
       "      <td>53.0</td>\n",
       "      <td>53.0</td>\n",
       "      <td>1</td>\n",
       "      <td>3</td>\n",
       "      <td>1</td>\n",
       "      <td>DS08c-008</td>\n",
       "    </tr>\n",
       "    <tr>\n",
       "      <th>81</th>\n",
       "      <td>82</td>\n",
       "      <td>07Zcf56x</td>\n",
       "      <td>0.0</td>\n",
       "      <td>52.0</td>\n",
       "      <td>52.0</td>\n",
       "      <td>1</td>\n",
       "      <td>3</td>\n",
       "      <td>2</td>\n",
       "      <td>DS08c-008</td>\n",
       "    </tr>\n",
       "    <tr>\n",
       "      <th>82</th>\n",
       "      <td>83</td>\n",
       "      <td>p820WHoV</td>\n",
       "      <td>0.0</td>\n",
       "      <td>53.0</td>\n",
       "      <td>53.0</td>\n",
       "      <td>1</td>\n",
       "      <td>3</td>\n",
       "      <td>3</td>\n",
       "      <td>DS08c-008</td>\n",
       "    </tr>\n",
       "    <tr>\n",
       "      <th>83</th>\n",
       "      <td>84</td>\n",
       "      <td>36CHLW1W</td>\n",
       "      <td>0.0</td>\n",
       "      <td>48.0</td>\n",
       "      <td>48.0</td>\n",
       "      <td>1</td>\n",
       "      <td>3</td>\n",
       "      <td>4</td>\n",
       "      <td>DS08c-008</td>\n",
       "    </tr>\n",
       "    <tr>\n",
       "      <th>84</th>\n",
       "      <td>85</td>\n",
       "      <td>21ljtsPT</td>\n",
       "      <td>0.0</td>\n",
       "      <td>50.0</td>\n",
       "      <td>50.0</td>\n",
       "      <td>1</td>\n",
       "      <td>3</td>\n",
       "      <td>5</td>\n",
       "      <td>DS08c-008</td>\n",
       "    </tr>\n",
       "  </tbody>\n",
       "</table>\n",
       "</div>"
      ],
      "text/plain": [
       "    id serial_number  age   eol   rul  group_id  Fc  unit    dataset\n",
       "66  67      DH4gw7GB  0.0  51.0  51.0         1   3     2  DS08a-009\n",
       "70  71      XTNVUYvx  0.0  58.0  58.0         1   3     6  DS08a-009\n",
       "76  77      cHjtOlTA  0.0  58.0  58.0         2   3    12  DS08a-009\n",
       "77  78      K32vLF2c  0.0  56.0  56.0         2   3    13  DS08a-009\n",
       "78  79      mvqpgmYg  0.0  59.0  59.0         2   3    14  DS08a-009\n",
       "80  81      VDsiPMEd  0.0  53.0  53.0         1   3     1  DS08c-008\n",
       "81  82      07Zcf56x  0.0  52.0  52.0         1   3     2  DS08c-008\n",
       "82  83      p820WHoV  0.0  53.0  53.0         1   3     3  DS08c-008\n",
       "83  84      36CHLW1W  0.0  48.0  48.0         1   3     4  DS08c-008\n",
       "84  85      21ljtsPT  0.0  50.0  50.0         1   3     5  DS08c-008"
      ]
     },
     "execution_count": 92,
     "metadata": {},
     "output_type": "execute_result"
    }
   ],
   "source": [
    "units = units_df[(units_df['Fc'] == Fc) & (units_df['dataset'].str.contains(dataset))]\n",
    "units"
   ]
  },
  {
   "cell_type": "code",
   "execution_count": 19,
   "id": "0a56dcd8-d284-4c16-a541-95b68d63f10d",
   "metadata": {
    "tags": []
   },
   "outputs": [],
   "source": [
    "tables = ['summary_tb', 'telemetry_tb']\n",
    "downsample=20\n",
    "df = api._get_data(db=db,\n",
    "                   units=pd.unique(units.id),\n",
    "                   tables=tables,\n",
    "                   downsample=downsample).astype(np.float32)\n",
    "utils.add_time_column(units=pd.unique(units.id), df=df)\n",
    "utils.add_rul_column(units=pd.unique(units.id), df=df)"
   ]
  },
  {
   "cell_type": "markdown",
   "id": "bc9a5983-d9fd-488c-9f20-b5a5a774bdb2",
   "metadata": {},
   "source": [
    "## 1. Make Xs_prime and y "
   ]
  },
  {
   "cell_type": "code",
   "execution_count": 46,
   "id": "9e70daa6-a71b-4259-816b-451111f0dec3",
   "metadata": {},
   "outputs": [],
   "source": [
    "W_cols = ['Mach', 'alt', 'TRA', 'T2', 'time']\n",
    "Xs_cols = ['Wf', 'Nf', 'Nc', 'T24', 'T30', 'T48', 'T50', 'P15', 'P2', 'P21', 'P24', 'Ps30', 'P40', 'P50']\n",
    "aux_cols = ['cycle', 'hs', 'Fc', 'asset_id']\n",
    "\n",
    "model = keras.models.load_model(paths_df[paths_df['name']=='flight_effects'].path.values[0])\n",
    "yscaler = joblib.load(paths_df[paths_df['name']=='flight_effects_yscaler'].path.values[0])\n",
    "xscaler = joblib.load(paths_df[paths_df['name']=='flight_effects_xscaler'].path.values[0])"
   ]
  },
  {
   "cell_type": "code",
   "execution_count": 47,
   "id": "5f3e7e27-cec4-489a-977c-3830ef3e20c3",
   "metadata": {},
   "outputs": [
    {
     "name": "stderr",
     "output_type": "stream",
     "text": [
      "2022-02-18 08:00:49.484710: I tensorflow/stream_executor/cuda/cuda_blas.cc:1786] TensorFloat-32 will be used for the matrix multiplication. This will only be logged once.\n"
     ]
    }
   ],
   "source": [
    "trace = yscaler.transform(df[Xs_cols])\n",
    "pred = model.predict(xscaler.transform(df[W_cols]))\n",
    "res = trace - pred\n",
    "dfx = pd.DataFrame(data=res, columns=Xs_cols)\n",
    "df_x = pd.DataFrame(data=xscaler.transform(df[W_cols]), columns=W_cols)\n",
    "dfx = pd.concat([dfx, df_x, df[aux_cols]], axis=1)\n",
    "dfx['rul'] = df['rul'].values\n",
    "dfx.time = dfx.time + (dfx.cycle -1)\n",
    "dfx0 = dfx[dfx.hs == 0]"
   ]
  },
  {
   "cell_type": "markdown",
   "id": "0d071778-ef11-4406-9496-d4a886b4faae",
   "metadata": {},
   "source": [
    "## 2. split sets and view feature distributions"
   ]
  },
  {
   "cell_type": "code",
   "execution_count": 100,
   "id": "af1aa0be-a4df-4861-827d-537ccb11aa45",
   "metadata": {},
   "outputs": [
    {
     "name": "stdout",
     "output_type": "stream",
     "text": [
      "10\n",
      "10\n",
      "0\n",
      "0\n",
      "train, val, test set counts: 10, 0, 0\n",
      "10 10\n",
      "train units: [77, 85, 81, 71, 83, 84, 79, 67, 82, 78]\n",
      "val units: []\n",
      "test units: []\n"
     ]
    }
   ],
   "source": [
    "train_df, train_y, val_df, val_y, test_df, test_y = utils.train_test_split(df=dfx0, units=list(pd.unique(units.id)), y_labels=['rul'], t_labels=aux_cols + Xs_cols + W_cols, train_pct = 1.0, val_pct=0.0, test_pct=0.0, verbose=True)"
   ]
  },
  {
   "cell_type": "code",
   "execution_count": 101,
   "id": "12823f93-9bbb-4661-81c6-563cbac763c0",
   "metadata": {},
   "outputs": [],
   "source": [
    "train_y = pd.DataFrame(data=train_y, columns=['rul'])\n",
    "val_y = pd.DataFrame(data=val_y, columns=['rul'])\n",
    "test_y = pd.DataFrame(data=test_y, columns=['rul'])"
   ]
  },
  {
   "cell_type": "code",
   "execution_count": 102,
   "id": "ad1681d9-87fb-42cd-acb1-2acead2553db",
   "metadata": {},
   "outputs": [],
   "source": [
    "train_pop = pd.concat([train_df.pop(x) for x in ['asset_id', 'cycle', 'hs', 'Fc']], axis=1)\n",
    "val_pop = pd.concat([val_df.pop(x) for x in ['asset_id', 'cycle', 'hs', 'Fc']], axis=1)\n",
    "test_pop = pd.concat([test_df.pop(x) for x in ['asset_id', 'cycle', 'hs', 'Fc']], axis=1)"
   ]
  },
  {
   "cell_type": "code",
   "execution_count": 103,
   "id": "71440d4b-5b5f-4b22-a0b6-8c04bef0187f",
   "metadata": {},
   "outputs": [],
   "source": [
    "\n",
    "train_df.to_csv(f'{data_location}/train_df_{data_header}.csv')\n",
    "train_pop.to_csv(f'{data_location}/train_pop_{data_header}.csv')\n",
    "train_y.to_csv(f'{data_location}/train_y_{data_header}.csv')\n",
    "\n",
    "val_df.to_csv(f'{data_location}/val_df_{data_header}.csv')\n",
    "val_pop.to_csv(f'{data_location}/val_pop_{data_header}.csv')\n",
    "val_y.to_csv(f'{data_location}/val_y_{data_header}.csv')\n",
    "\n",
    "test_df.to_csv(f'{data_location}/test_df_{data_header}.csv')\n",
    "test_pop.to_csv(f'{data_location}/test_pop_{data_header}.csv')\n",
    "test_y.to_csv(f'{data_location}/test_y_{data_header}.csv')"
   ]
  },
  {
   "cell_type": "code",
   "execution_count": null,
   "id": "ec4a676b-fad4-4b5f-8978-1f99f7e9cfca",
   "metadata": {},
   "outputs": [],
   "source": []
  },
  {
   "cell_type": "code",
   "execution_count": null,
   "id": "d08d7d27-9853-4cf9-9808-acf9a5ff574a",
   "metadata": {},
   "outputs": [],
   "source": [
    "#utils.plot_feature_distributions(df=train_df, feature_range=(0,1), figsize=(12,4))\n",
    "#utils.plot_feature_distributions(df=val_df, feature_range=(0,1), figsize=(12,4))\n",
    "#utils.plot_feature_distributions(df=test_df, feature_range=(0,1), figsize=(12,4))"
   ]
  },
  {
   "cell_type": "markdown",
   "id": "2606b296-b6d4-47eb-a4e0-3edd4cf70d50",
   "metadata": {},
   "source": [
    "### ~plot feature importances~"
   ]
  },
  {
   "cell_type": "code",
   "execution_count": null,
   "id": "0b0ec7bf-78fe-42b4-92cd-06cb23ca0ec5",
   "metadata": {},
   "outputs": [],
   "source": [
    "# from xgboost import XGBRegressor\n",
    "# importance_model = XGBRegressor()\n",
    "# importance_model.fit(train_df.values, train_y)\n",
    "\n",
    "# scoring = ['explained_variance',\n",
    "#            'max_error']#,\n",
    "#            #'neg_mean_absolute_error',\n",
    "#            #'neg_root_mean_squared_error',\n",
    "#            #'r2']\n",
    "\n",
    "# utils.plot_feature_importances(model=importance_model,\n",
    "#                                features=train_df.values,\n",
    "#                                feature_labels=Xs_cols + W_cols,\n",
    "#                                target=train_y,\n",
    "#                                target_label='rul',\n",
    "#                                scoring=scoring)\n",
    "\n",
    "# utils.plot_feature_importance(features=train_df.values,\n",
    "#                               feature_labels=Xs_cols + W_cols,\n",
    "#                               target=train_y,\n",
    "#                               target_label='rul',\n",
    "#                               figsize=(9,4))"
   ]
  },
  {
   "cell_type": "code",
   "execution_count": 99,
   "id": "c8654274-0608-477f-938d-732412426c8b",
   "metadata": {},
   "outputs": [],
   "source": [
    "# #important_features = list(train_df.columns) #['Wf','Nc', 'T24', 'T48', 'T50', 'P2', 'Ps30', 'P40']\n",
    "# important_features = ['Wf','Nf', 'T30', 'T48', 'T50', 'P15', 'P24', 'P40', 'P50','TRA', 'T2', 'time']\n",
    "# important_features\n",
    "len(train_df.columns)"
   ]
  },
  {
   "cell_type": "code",
   "execution_count": 117,
   "id": "4b9b8d6e-21d1-43c4-81e4-e6cc179d3433",
   "metadata": {},
   "outputs": [
    {
     "data": {
      "text/plain": [
       "(279601, 100, 19)"
      ]
     },
     "execution_count": 117,
     "metadata": {},
     "output_type": "execute_result"
    }
   ],
   "source": [
    "X_train.shape"
   ]
  },
  {
   "cell_type": "markdown",
   "id": "2a5674cb-32ff-413f-85eb-801814fd8ecc",
   "metadata": {},
   "source": [
    "## 2. temporalize the data"
   ]
  },
  {
   "cell_type": "code",
   "execution_count": 104,
   "id": "aea9dfe6-5e65-4c75-bc99-b70de90bacde",
   "metadata": {},
   "outputs": [],
   "source": [
    "important_features = list(train_df.columns)\n",
    "\n",
    "lookback = 100\n",
    "horizon = 1\n",
    "n_out = 1\n",
    "n_features = len(important_features)\n",
    "\n",
    "X_train, y_train = utils.temporalize_data(train_df[important_features].values, train_y.values, lookback, horizon, n_features, n_out)\n",
    "#train_pop_temp, y_pop = utils.temporalize_data(train_pop.values, train_y, lookback, horizon, len(train_pop.columns), n_out)\n",
    "\n",
    "# X_val, y_val = utils.temporalize_data(val_df.values, val_y, lookback, horizon, n_features, n_out)\n",
    "# val_pop_temp, y_pop = utils.temporalize_data(val_pop.values, val_y, lookback, horizon, n_features, n_out)\n",
    "\n",
    "# X_test, y_test = utils.temporalize_data(test_df.values, test_y, lookback, horizon, n_features, n_out)\n",
    "# test_pop_temp, y_pop = utils.temporalize_data(test_pop.values, test_y, lookback, horizon, n_features, n_out)"
   ]
  },
  {
   "cell_type": "code",
   "execution_count": 105,
   "id": "ffb3f9b4-c95c-41fd-8aa4-651760a0dd1c",
   "metadata": {},
   "outputs": [],
   "source": [
    "np.save(f'{data_location}/{data_header}_X.npy', X_train)\n",
    "np.save(f'{data_location}/{data_header}_y.npy', y_train)"
   ]
  },
  {
   "cell_type": "code",
   "execution_count": 112,
   "id": "a1d9c01a-f86e-4435-a89c-0a1411429021",
   "metadata": {},
   "outputs": [],
   "source": [
    "X_train = X_train.astype(np.float32)\n",
    "y_train = y_train.astype(np.float32)"
   ]
  },
  {
   "cell_type": "code",
   "execution_count": 118,
   "id": "4e438362-d540-4454-b6e8-ccb6ec9762b2",
   "metadata": {},
   "outputs": [
    {
     "data": {
      "text/plain": [
       "'/home/macslab/phm2021_data_challenge/models/Fc-3_dataset-DS08.h5'"
      ]
     },
     "execution_count": 118,
     "metadata": {},
     "output_type": "execute_result"
    }
   ],
   "source": [
    "f'{model_location}/{data_header}.h5'"
   ]
  },
  {
   "cell_type": "markdown",
   "id": "439df233-7f0b-49be-9be7-192f6d30946b",
   "metadata": {},
   "source": [
    "## Parameter search"
   ]
  },
  {
   "cell_type": "code",
   "execution_count": 122,
   "id": "6043839e-bfef-4f8a-9e7b-25c606f6dd46",
   "metadata": {},
   "outputs": [
    {
     "name": "stdout",
     "output_type": "stream",
     "text": [
      "Trial 96 Complete [00h 06m 37s]\n",
      "root_mean_squared_error: 2.514153480529785\n",
      "\n",
      "Best root_mean_squared_error So Far: 2.2991015911102295\n",
      "Total elapsed time: 09h 18m 57s\n",
      "INFO:tensorflow:Oracle triggered exit\n"
     ]
    }
   ],
   "source": [
    "input_shape = (lookback, n_features)\n",
    "my_tuning = tuning.Tuning(input_shape, n_out)\n",
    "bayesian_tuning = my_tuning.bayesian_search(objective='root_mean_squared_error',\n",
    "                                            mode='min',\n",
    "                                            max_trials=96,\n",
    "                                            alpha=.0005,\n",
    "                                            beta=5,\n",
    "                                            epochs=5,\n",
    "                                            executions_per_trial=1,\n",
    "                                            hypermodel=my_tuning.create_bilstm_hypermodel,\n",
    "                                            directory=f'{log_location}/{data_header}_v2',\n",
    "                                            project_name='bilstm',\n",
    "                                            logger=TensorBoardLogger(\n",
    "                                                metrics=['root_mean_squared_error'],\n",
    "                                                         logdir=f'{log_location}/{data_header}_v2/hparams'\n",
    "                                            ),\n",
    "                                            X=X_train,\n",
    "                                            y=y_train)"
   ]
  },
  {
   "cell_type": "code",
   "execution_count": null,
   "id": "547879d8-1406-4397-8f01-a6492c255cc6",
   "metadata": {},
   "outputs": [],
   "source": [
    "bayesian_tuning_params = bayesian_tuning.get_best_hyperparameters(num_trials=1)[0]\n",
    "bayesian_tuning_model = bayesian_tuning.get_best_models()[0]\n",
    "print(bayesian_tuning_params.values)\n",
    "bayesian_tuning_model.summary()"
   ]
  },
  {
   "cell_type": "code",
   "execution_count": null,
   "id": "eb9afede-63e1-4bac-b727-9df43ef471c6",
   "metadata": {},
   "outputs": [],
   "source": [
    "bayesian_tuning_model.save(f'{model_location}/{data_header}_best.h5')\n",
    "bayesian_tuning_model.save(f'{model_location}/{data_header}_best')"
   ]
  },
  {
   "cell_type": "markdown",
   "id": "96dc3bb9-9faf-4f4d-970a-444586483845",
   "metadata": {},
   "source": [
    "# scratch / misc below"
   ]
  },
  {
   "cell_type": "code",
   "execution_count": null,
   "id": "5b720c9d-4184-42e7-bd01-b62f82590337",
   "metadata": {},
   "outputs": [],
   "source": [
    "# Xs_prime = []\n",
    "# idx = np.random.randint(len(Xs_cols))\n",
    "# polys = []\n",
    "\n",
    "# df[W_cols] = xscaler.transform(df[W_cols])\n",
    "# pred = model.predict(df[W_cols])\n",
    "\n",
    "# for asset_id in pd.unique(df.asset_id):\n",
    "#     X_full = df[df.asset_id == asset_id][W_cols]\n",
    "#     pred = model.predict(X_full)\n",
    "#     # pred = model.predict(xscaler.transform(X_full))\n",
    "#     Xs_prime.append(pred)\n",
    "    \n",
    "#    y_full = df[df.asset_id == asset_id][Xs_cols]\n",
    "#    trace = yscaler.transform(y_full)\n",
    "#     res = trace - pred\n",
    "\n",
    "#     x = np.arange(0, len(res[:,0]))\n",
    "#     x = x[0:len(x):10]\n",
    "#     for i in range(0, len(Xs_cols)):\n",
    "#         y = res[:,i]\n",
    "#         y = y[0:len(y):10]\n",
    "#         reg = np.poly1d(np.polyfit(x, y, 6))\n",
    "#         polys.append(reg)\n",
    "\n",
    "#     fig = plt.figure(figsize=(12,12))\n",
    "#     filtered = np.zeros(res.shape)\n",
    "#     x = np.arange(0, len(res[:,0]))\n",
    "#     for j in range(len(Xs_cols)):\n",
    "#         y = res[:,j]\n",
    "#         p = polys[j]\n",
    "\n",
    "#         diff = np.zeros((len(y),))\n",
    "#         for i in range(len(y)):\n",
    "#             predp = p(y[i])\n",
    "#             diff[i] = y[i] - predp\n",
    "\n",
    "#         mean = np.mean(diff)\n",
    "#         std = np.std(diff)\n",
    "\n",
    "#         filt = np.zeros((len(y),))\n",
    "#         for i in range(len(res)):\n",
    "#             if np.abs(np.abs(y[i]) - np.abs(p(x[i]))) > np.abs(mean)+3*std:\n",
    "#                 filt[i] = p(x[i])\n",
    "#             else:\n",
    "#                 filt[i] = y[i]\n",
    "\n",
    "#         filtered[:,j] = filt\n",
    "#         utils.plot_trace_samples(fig, y, filt, p, j)\n",
    "#     plt.show()\n",
    "#     Xs_prime.append(pred)"
   ]
  },
  {
   "cell_type": "code",
   "execution_count": null,
   "id": "7f8a76dd-17a9-4a09-916f-6e0a9e78a715",
   "metadata": {},
   "outputs": [],
   "source": [
    "# import Queue\n",
    "# from threading import Thread\n",
    "\n",
    "# units = api._get_units(db=db)\n",
    "# tables = ['summary_tb', 'telemetry_tb']\n",
    "\n",
    "# def func(units, tables, downsample):\n",
    "#     return str(units) + str(tables) + str(downsample)\n",
    "# def delegate():\n",
    "#     return func('units', ' tables', 20)\n",
    "# units = api._get_units(db=db)\n",
    "# data_frames = []\n",
    "# for i in range(int(len(units)/10)):\n",
    "    \n",
    "    \n",
    "    # df = api._get_data(db=db,\n",
    "    #                    units=units,\n",
    "    #                    tables=tables,\n",
    "    #                    downsample=20).astype(np.float32)\n",
    "    \n",
    "    \n",
    "# train_df = pd.read_csv('train_df.csv', index_col=0)\n",
    "# train_pop = pd.read_csv('train_pop.csv', index_col=0)\n",
    "# train_y = pd.read_csv('train_y.csv', index_col=0)"
   ]
  },
  {
   "cell_type": "code",
   "execution_count": null,
   "id": "a161c58a-e2d2-4279-86b4-4abe627483a7",
   "metadata": {},
   "outputs": [],
   "source": [
    "from keras.utils.vis_utils import plot_model\n",
    "input_shape = (lookback, n_features)\n",
    "my_tuning = tuning.Tuning(input_shape, n_out)\n",
    "\n",
    "params = tuning.MyParameters(layers=3, units=64, dropout_rate=0, learning_rate=.001, recurrent_dropout=0,l2=-1)\n",
    "\n",
    "\n",
    "model = my_tuning.build_lstm_model(params)\n",
    "tf.keras.utils.plot_model(model, show_shapes=True, show_layer_names=True)\n",
    "model.summary()"
   ]
  }
 ],
 "metadata": {
  "kernelspec": {
   "display_name": "Python 3 (ipykernel)",
   "language": "python",
   "name": "python3"
  },
  "language_info": {
   "codemirror_mode": {
    "name": "ipython",
    "version": 3
   },
   "file_extension": ".py",
   "mimetype": "text/x-python",
   "name": "python",
   "nbconvert_exporter": "python",
   "pygments_lexer": "ipython3",
   "version": "3.8.12"
  }
 },
 "nbformat": 4,
 "nbformat_minor": 5
}
