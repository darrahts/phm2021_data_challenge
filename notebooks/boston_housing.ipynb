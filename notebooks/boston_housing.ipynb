{
 "cells": [
  {
   "cell_type": "markdown",
   "id": "604f31aa-c0b1-4e94-8fbf-d5dbad34ec81",
   "metadata": {},
   "source": [
    "# hyperparameter optimization for regression with boston housing"
   ]
  },
  {
   "cell_type": "code",
   "execution_count": 3,
   "id": "96ae5887-5b7e-4d9d-a08f-c82bc55ed88e",
   "metadata": {},
   "outputs": [
    {
     "name": "stdout",
     "output_type": "stream",
     "text": [
      "2.7.0\n",
      "[INFO] GPU?: <True> [PhysicalDevice(name='/physical_device:GPU:0', device_type='GPU'), PhysicalDevice(name='/physical_device:GPU:1', device_type='GPU')]\n"
     ]
    }
   ],
   "source": [
    "import tensorflow as tf\n",
    "from tensorflow import keras\n",
    "import keras_tuner as kt\n",
    "\n",
    "from kerastuner_tensorboard_logger import (\n",
    "    TensorBoardLogger,\n",
    "    setup_tb  # Optional\n",
    ")\n",
    "\n",
    "from pathlib import Path\n",
    "import os\n",
    "import sys\n",
    "sys.path.insert(1, os.path.dirname(os.getcwd()))\n",
    "import package.utils as utils\n",
    "import package.tuning as tuning\n",
    "utils.check_gpu()\n",
    "\n",
    "import numpy as np\n",
    "import pandas as pd\n",
    "import matplotlib.pyplot as plt\n",
    "import seaborn as sns\n",
    "\n",
    "from sklearn.datasets import load_boston\n",
    "from sklearn.preprocessing import MinMaxScaler\n",
    "from sklearn.model_selection import train_test_split\n",
    "\n",
    "%load_ext autoreload\n",
    "%autoreload 2\n"
   ]
  },
  {
   "cell_type": "markdown",
   "id": "f27227e6-7e49-4f61-8cf3-c502812c96b7",
   "metadata": {},
   "source": [
    "### load and describe the dataset\n",
    "- MEDV is the target variable (median home value)\n",
    "- other variables can also be used as targets for MIMO regression"
   ]
  },
  {
   "cell_type": "code",
   "execution_count": 4,
   "id": "acd8b163-064a-4375-951b-458c136aa1fa",
   "metadata": {},
   "outputs": [
    {
     "name": "stdout",
     "output_type": "stream",
     "text": [
      ".. _boston_dataset:\n",
      "\n",
      "Boston house prices dataset\n",
      "---------------------------\n",
      "\n",
      "**Data Set Characteristics:**  \n",
      "\n",
      "    :Number of Instances: 506 \n",
      "\n",
      "    :Number of Attributes: 13 numeric/categorical predictive. Median Value (attribute 14) is usually the target.\n",
      "\n",
      "    :Attribute Information (in order):\n",
      "        - CRIM     per capita crime rate by town\n",
      "        - ZN       proportion of residential land zoned for lots over 25,000 sq.ft.\n",
      "        - INDUS    proportion of non-retail business acres per town\n",
      "        - CHAS     Charles River dummy variable (= 1 if tract bounds river; 0 otherwise)\n",
      "        - NOX      nitric oxides concentration (parts per 10 million)\n",
      "        - RM       average number of rooms per dwelling\n",
      "        - AGE      proportion of owner-occupied units built prior to 1940\n",
      "        - DIS      weighted distances to five Boston employment centres\n",
      "        - RAD      index of accessibility to radial highways\n",
      "        - TAX      full-value property-tax rate per $10,000\n",
      "        - PTRATIO  pupil-teacher ratio by town\n",
      "        - B        1000(Bk - 0.63)^2 where Bk is the proportion of black people by town\n",
      "        - LSTAT    % lower status of the population\n",
      "        - MEDV     Median value of owner-occupied homes in $1000's\n",
      "\n",
      "    :Missing Attribute Values: None\n",
      "\n",
      "    :Creator: Harrison, D. and Rubinfeld, D.L.\n",
      "\n",
      "This is a copy of UCI ML housing dataset.\n",
      "https://archive.ics.uci.edu/ml/machine-learning-databases/housing/\n",
      "\n",
      "\n",
      "This dataset was taken from the StatLib library which is maintained at Carnegie Mellon University.\n",
      "\n",
      "The Boston house-price data of Harrison, D. and Rubinfeld, D.L. 'Hedonic\n",
      "prices and the demand for clean air', J. Environ. Economics & Management,\n",
      "vol.5, 81-102, 1978.   Used in Belsley, Kuh & Welsch, 'Regression diagnostics\n",
      "...', Wiley, 1980.   N.B. Various transformations are used in the table on\n",
      "pages 244-261 of the latter.\n",
      "\n",
      "The Boston house-price data has been used in many machine learning papers that address regression\n",
      "problems.   \n",
      "     \n",
      ".. topic:: References\n",
      "\n",
      "   - Belsley, Kuh & Welsch, 'Regression diagnostics: Identifying Influential Data and Sources of Collinearity', Wiley, 1980. 244-261.\n",
      "   - Quinlan,R. (1993). Combining Instance-Based and Model-Based Learning. In Proceedings on the Tenth International Conference of Machine Learning, 236-243, University of Massachusetts, Amherst. Morgan Kaufmann.\n",
      "\n"
     ]
    },
    {
     "name": "stderr",
     "output_type": "stream",
     "text": [
      "/home/oem/anaconda3/envs/tfgpu/lib/python3.8/site-packages/sklearn/utils/deprecation.py:87: FutureWarning: Function load_boston is deprecated; `load_boston` is deprecated in 1.0 and will be removed in 1.2.\n",
      "\n",
      "    The Boston housing prices dataset has an ethical problem. You can refer to\n",
      "    the documentation of this function for further details.\n",
      "\n",
      "    The scikit-learn maintainers therefore strongly discourage the use of this\n",
      "    dataset unless the purpose of the code is to study and educate about\n",
      "    ethical issues in data science and machine learning.\n",
      "\n",
      "    In this special case, you can fetch the dataset from the original\n",
      "    source::\n",
      "\n",
      "        import pandas as pd\n",
      "        import numpy as np\n",
      "\n",
      "\n",
      "        data_url = \"http://lib.stat.cmu.edu/datasets/boston\"\n",
      "        raw_df = pd.read_csv(data_url, sep=\"\\s+\", skiprows=22, header=None)\n",
      "        data = np.hstack([raw_df.values[::2, :], raw_df.values[1::2, :2]])\n",
      "        target = raw_df.values[1::2, 2]\n",
      "\n",
      "    Alternative datasets include the California housing dataset (i.e.\n",
      "    :func:`~sklearn.datasets.fetch_california_housing`) and the Ames housing\n",
      "    dataset. You can load the datasets as follows::\n",
      "\n",
      "        from sklearn.datasets import fetch_california_housing\n",
      "        housing = fetch_california_housing()\n",
      "\n",
      "    for the California housing dataset and::\n",
      "\n",
      "        from sklearn.datasets import fetch_openml\n",
      "        housing = fetch_openml(name=\"house_prices\", as_frame=True)\n",
      "\n",
      "    for the Ames housing dataset.\n",
      "    \n",
      "  warnings.warn(msg, category=FutureWarning)\n"
     ]
    }
   ],
   "source": [
    "boston_dataset = load_boston()\n",
    "print(boston_dataset.DESCR)"
   ]
  },
  {
   "cell_type": "markdown",
   "id": "033a0259-c13f-4140-aabe-d83f05960706",
   "metadata": {},
   "source": [
    "- the dataset"
   ]
  },
  {
   "cell_type": "code",
   "execution_count": 5,
   "id": "2cfb213c-3254-4071-8f02-cd52ddf35371",
   "metadata": {},
   "outputs": [
    {
     "data": {
      "text/html": [
       "<div>\n",
       "<style scoped>\n",
       "    .dataframe tbody tr th:only-of-type {\n",
       "        vertical-align: middle;\n",
       "    }\n",
       "\n",
       "    .dataframe tbody tr th {\n",
       "        vertical-align: top;\n",
       "    }\n",
       "\n",
       "    .dataframe thead th {\n",
       "        text-align: right;\n",
       "    }\n",
       "</style>\n",
       "<table border=\"1\" class=\"dataframe\">\n",
       "  <thead>\n",
       "    <tr style=\"text-align: right;\">\n",
       "      <th></th>\n",
       "      <th>CRIM</th>\n",
       "      <th>ZN</th>\n",
       "      <th>INDUS</th>\n",
       "      <th>CHAS</th>\n",
       "      <th>NOX</th>\n",
       "      <th>RM</th>\n",
       "      <th>AGE</th>\n",
       "      <th>DIS</th>\n",
       "      <th>RAD</th>\n",
       "      <th>TAX</th>\n",
       "      <th>PTRATIO</th>\n",
       "      <th>B</th>\n",
       "      <th>LSTAT</th>\n",
       "      <th>medv</th>\n",
       "    </tr>\n",
       "  </thead>\n",
       "  <tbody>\n",
       "    <tr>\n",
       "      <th>0</th>\n",
       "      <td>0.00632</td>\n",
       "      <td>18.0</td>\n",
       "      <td>2.31</td>\n",
       "      <td>0.0</td>\n",
       "      <td>0.538</td>\n",
       "      <td>6.575</td>\n",
       "      <td>65.2</td>\n",
       "      <td>4.0900</td>\n",
       "      <td>1.0</td>\n",
       "      <td>296.0</td>\n",
       "      <td>15.3</td>\n",
       "      <td>396.90</td>\n",
       "      <td>4.98</td>\n",
       "      <td>24.0</td>\n",
       "    </tr>\n",
       "    <tr>\n",
       "      <th>1</th>\n",
       "      <td>0.02731</td>\n",
       "      <td>0.0</td>\n",
       "      <td>7.07</td>\n",
       "      <td>0.0</td>\n",
       "      <td>0.469</td>\n",
       "      <td>6.421</td>\n",
       "      <td>78.9</td>\n",
       "      <td>4.9671</td>\n",
       "      <td>2.0</td>\n",
       "      <td>242.0</td>\n",
       "      <td>17.8</td>\n",
       "      <td>396.90</td>\n",
       "      <td>9.14</td>\n",
       "      <td>21.6</td>\n",
       "    </tr>\n",
       "    <tr>\n",
       "      <th>2</th>\n",
       "      <td>0.02729</td>\n",
       "      <td>0.0</td>\n",
       "      <td>7.07</td>\n",
       "      <td>0.0</td>\n",
       "      <td>0.469</td>\n",
       "      <td>7.185</td>\n",
       "      <td>61.1</td>\n",
       "      <td>4.9671</td>\n",
       "      <td>2.0</td>\n",
       "      <td>242.0</td>\n",
       "      <td>17.8</td>\n",
       "      <td>392.83</td>\n",
       "      <td>4.03</td>\n",
       "      <td>34.7</td>\n",
       "    </tr>\n",
       "    <tr>\n",
       "      <th>3</th>\n",
       "      <td>0.03237</td>\n",
       "      <td>0.0</td>\n",
       "      <td>2.18</td>\n",
       "      <td>0.0</td>\n",
       "      <td>0.458</td>\n",
       "      <td>6.998</td>\n",
       "      <td>45.8</td>\n",
       "      <td>6.0622</td>\n",
       "      <td>3.0</td>\n",
       "      <td>222.0</td>\n",
       "      <td>18.7</td>\n",
       "      <td>394.63</td>\n",
       "      <td>2.94</td>\n",
       "      <td>33.4</td>\n",
       "    </tr>\n",
       "    <tr>\n",
       "      <th>4</th>\n",
       "      <td>0.06905</td>\n",
       "      <td>0.0</td>\n",
       "      <td>2.18</td>\n",
       "      <td>0.0</td>\n",
       "      <td>0.458</td>\n",
       "      <td>7.147</td>\n",
       "      <td>54.2</td>\n",
       "      <td>6.0622</td>\n",
       "      <td>3.0</td>\n",
       "      <td>222.0</td>\n",
       "      <td>18.7</td>\n",
       "      <td>396.90</td>\n",
       "      <td>5.33</td>\n",
       "      <td>36.2</td>\n",
       "    </tr>\n",
       "  </tbody>\n",
       "</table>\n",
       "</div>"
      ],
      "text/plain": [
       "      CRIM    ZN  INDUS  CHAS    NOX     RM   AGE     DIS  RAD    TAX  \\\n",
       "0  0.00632  18.0   2.31   0.0  0.538  6.575  65.2  4.0900  1.0  296.0   \n",
       "1  0.02731   0.0   7.07   0.0  0.469  6.421  78.9  4.9671  2.0  242.0   \n",
       "2  0.02729   0.0   7.07   0.0  0.469  7.185  61.1  4.9671  2.0  242.0   \n",
       "3  0.03237   0.0   2.18   0.0  0.458  6.998  45.8  6.0622  3.0  222.0   \n",
       "4  0.06905   0.0   2.18   0.0  0.458  7.147  54.2  6.0622  3.0  222.0   \n",
       "\n",
       "   PTRATIO       B  LSTAT  medv  \n",
       "0     15.3  396.90   4.98  24.0  \n",
       "1     17.8  396.90   9.14  21.6  \n",
       "2     17.8  392.83   4.03  34.7  \n",
       "3     18.7  394.63   2.94  33.4  \n",
       "4     18.7  396.90   5.33  36.2  "
      ]
     },
     "execution_count": 5,
     "metadata": {},
     "output_type": "execute_result"
    }
   ],
   "source": [
    "df = pd.DataFrame(boston_dataset.data, columns=boston_dataset.feature_names)\n",
    "df['medv'] = boston_dataset.target\n",
    "df.head()"
   ]
  },
  {
   "cell_type": "markdown",
   "id": "53ee61f2-f8fd-4a15-97c3-d6227d4a83d3",
   "metadata": {},
   "source": [
    "- descriptive statistics"
   ]
  },
  {
   "cell_type": "code",
   "execution_count": null,
   "id": "f1eb90d8-0337-42fa-b691-4c9d6bf72f7a",
   "metadata": {},
   "outputs": [],
   "source": [
    "df.describe().transpose()"
   ]
  },
  {
   "cell_type": "code",
   "execution_count": null,
   "id": "e181d16f-7ada-44c5-abaa-fe5af0893a4a",
   "metadata": {},
   "outputs": [],
   "source": [
    "df.isna().sum()"
   ]
  },
  {
   "cell_type": "markdown",
   "id": "8d5f2bbb-b69c-4264-87c4-b4d1420e4a8e",
   "metadata": {},
   "source": [
    "### view feature distributions"
   ]
  },
  {
   "cell_type": "code",
   "execution_count": null,
   "id": "dc465927-610c-4c08-b6ab-6abdb957d221",
   "metadata": {},
   "outputs": [],
   "source": [
    "utils.plot_feature_distributions(df=df, feature_range=(-1,1), figsize=(12,4))"
   ]
  },
  {
   "cell_type": "code",
   "execution_count": null,
   "id": "4e1f2f86-5efc-4a51-9460-76f95e233761",
   "metadata": {},
   "outputs": [],
   "source": [
    "sns.pairplot(df, diag_kind='kde')"
   ]
  },
  {
   "cell_type": "markdown",
   "id": "0a21c348-d4ff-4ce3-975f-d0866b5dbe13",
   "metadata": {},
   "source": [
    "### split into train, test, and validation\n",
    "- first remove the target variables from the dataset"
   ]
  },
  {
   "cell_type": "code",
   "execution_count": 6,
   "id": "633193a7-8e08-46de-9d52-235568dab28d",
   "metadata": {},
   "outputs": [
    {
     "data": {
      "text/html": [
       "<div>\n",
       "<style scoped>\n",
       "    .dataframe tbody tr th:only-of-type {\n",
       "        vertical-align: middle;\n",
       "    }\n",
       "\n",
       "    .dataframe tbody tr th {\n",
       "        vertical-align: top;\n",
       "    }\n",
       "\n",
       "    .dataframe thead th {\n",
       "        text-align: right;\n",
       "    }\n",
       "</style>\n",
       "<table border=\"1\" class=\"dataframe\">\n",
       "  <thead>\n",
       "    <tr style=\"text-align: right;\">\n",
       "      <th></th>\n",
       "      <th>medv</th>\n",
       "      <th>PTRATIO</th>\n",
       "    </tr>\n",
       "  </thead>\n",
       "  <tbody>\n",
       "    <tr>\n",
       "      <th>0</th>\n",
       "      <td>24.0</td>\n",
       "      <td>15.3</td>\n",
       "    </tr>\n",
       "    <tr>\n",
       "      <th>1</th>\n",
       "      <td>21.6</td>\n",
       "      <td>17.8</td>\n",
       "    </tr>\n",
       "    <tr>\n",
       "      <th>2</th>\n",
       "      <td>34.7</td>\n",
       "      <td>17.8</td>\n",
       "    </tr>\n",
       "    <tr>\n",
       "      <th>3</th>\n",
       "      <td>33.4</td>\n",
       "      <td>18.7</td>\n",
       "    </tr>\n",
       "    <tr>\n",
       "      <th>4</th>\n",
       "      <td>36.2</td>\n",
       "      <td>18.7</td>\n",
       "    </tr>\n",
       "  </tbody>\n",
       "</table>\n",
       "</div>"
      ],
      "text/plain": [
       "   medv  PTRATIO\n",
       "0  24.0     15.3\n",
       "1  21.6     17.8\n",
       "2  34.7     17.8\n",
       "3  33.4     18.7\n",
       "4  36.2     18.7"
      ]
     },
     "execution_count": 6,
     "metadata": {},
     "output_type": "execute_result"
    }
   ],
   "source": [
    "y_df = pd.concat([df.pop(x) for x in ['medv', 'PTRATIO']], axis=1)\n",
    "y_df.head()"
   ]
  },
  {
   "cell_type": "code",
   "execution_count": 7,
   "id": "154bf526-0b59-4a2f-ae46-6b4df387efeb",
   "metadata": {},
   "outputs": [],
   "source": [
    "X_train, X_test, y_train, y_test = train_test_split(df, y_df, test_size=.15, random_state=36, shuffle=True)\n",
    "X_train, X_val, y_train, y_val = train_test_split(X_train, y_train, test_size=.10, random_state=35, shuffle=True)"
   ]
  },
  {
   "cell_type": "markdown",
   "id": "f6904225-2b6f-4254-9802-a50dd58018dd",
   "metadata": {},
   "source": [
    "### Normalize data to [-1, 1]"
   ]
  },
  {
   "cell_type": "code",
   "execution_count": 9,
   "id": "897728c3-efc3-437b-9cfd-b4039517ab9f",
   "metadata": {},
   "outputs": [],
   "source": [
    "scaler = MinMaxScaler(feature_range=(-1,1))\n",
    "X_train_scaled = scaler.fit_transform(X_train)\n",
    "X_val_scaled = scaler.transform(X_val)\n",
    "X_test_scaled = scaler.transform(X_test)"
   ]
  },
  {
   "cell_type": "markdown",
   "id": "4fb9c9fe-10e4-4ba6-a841-81df323b3def",
   "metadata": {},
   "source": [
    "### Plot feature importances\n",
    "- xgboost on medv (home value)"
   ]
  },
  {
   "cell_type": "code",
   "execution_count": null,
   "id": "172dedb4-2789-4528-ad23-111206dd9231",
   "metadata": {},
   "outputs": [],
   "source": [
    "target = y_train['medv']\n",
    "utils.plot_feature_importance(features=X_train_scaled,\n",
    "                              feature_labels=X_train.keys(),\n",
    "                              target=target,\n",
    "                              target_label=target.name,\n",
    "                              figsize=(9,4))"
   ]
  },
  {
   "cell_type": "markdown",
   "id": "44aad7ad-bd0b-4c3a-8479-1fe8e96149d3",
   "metadata": {},
   "source": [
    "- xgboost on student teacher ratio"
   ]
  },
  {
   "cell_type": "code",
   "execution_count": null,
   "id": "f7e8c9f3-3a88-44eb-9faa-e631edf3c607",
   "metadata": {},
   "outputs": [],
   "source": [
    "target = y_train['PTRATIO']\n",
    "utils.plot_feature_importance(features=X_train_scaled,\n",
    "                              feature_labels=X_train.keys(),\n",
    "                              target=target,\n",
    "                              target_label=target.name,\n",
    "                              figsize=(9,4))"
   ]
  },
  {
   "cell_type": "code",
   "execution_count": null,
   "id": "bb6d233e-ade2-4fa6-b2b7-ccf08a99a04c",
   "metadata": {},
   "outputs": [],
   "source": [
    "from xgboost import XGBRegressor\n",
    "target = y_train['medv']\n",
    "importance_model = XGBRegressor()\n",
    "importance_model.fit(X_train_scaled, target)\n",
    "\n",
    "scoring = ['explained_variance',\n",
    "           'max_error',\n",
    "           'neg_mean_absolute_error',\n",
    "           'neg_root_mean_squared_error',\n",
    "           'r2']\n",
    "\n",
    "utils.plot_feature_importances(model=importance_model,\n",
    "                               features=X_train_scaled,\n",
    "                               feature_labels=X_train.keys(),\n",
    "                               target=target,\n",
    "                               target_label=target.name,\n",
    "                               scoring=scoring)"
   ]
  },
  {
   "cell_type": "markdown",
   "id": "1395401f-3ba3-4a0a-8564-a83809ad4aee",
   "metadata": {},
   "source": [
    "## Tuners - hyperband"
   ]
  },
  {
   "cell_type": "code",
   "execution_count": 78,
   "id": "bd10f427-0e36-4cba-b112-79b279386f15",
   "metadata": {},
   "outputs": [
    {
     "name": "stdout",
     "output_type": "stream",
     "text": [
      "Trial 46 Complete [00h 00m 03s]\n",
      "root_mean_squared_error: 4.990386009216309\n",
      "\n",
      "Best root_mean_squared_error So Far: 3.8406410217285156\n",
      "Total elapsed time: 00h 02m 21s\n",
      "INFO:tensorflow:Oracle triggered exit\n",
      "returning model\n",
      "WARNING:tensorflow:Unresolved object in checkpoint: (root).optimizer.iter\n",
      "WARNING:tensorflow:Unresolved object in checkpoint: (root).optimizer.beta_1\n",
      "WARNING:tensorflow:Unresolved object in checkpoint: (root).optimizer.beta_2\n",
      "WARNING:tensorflow:Unresolved object in checkpoint: (root).optimizer.decay\n",
      "WARNING:tensorflow:Unresolved object in checkpoint: (root).optimizer.learning_rate\n",
      "WARNING:tensorflow:A checkpoint was restored (e.g. tf.train.Checkpoint.restore or tf.keras.Model.load_weights) but not all checkpointed values were used. See above for specific issues. Use expect_partial() on the load status object, e.g. tf.train.Checkpoint.restore(...).expect_partial(), to silence these warnings, or use assert_consumed() to make the check explicit. See https://www.tensorflow.org/guide/checkpoint#loading_mechanics for details.\n",
      "{'layers': 3, 'units_0': 192, 'units_1': 256, 'units_2': 480, 'units_3': 512, 'dropout_rate': 0.25, 'l2': 0.00025, 'learning_rate': 0.0025, 'batch_size': 32, 'tuner/epochs': 10, 'tuner/initial_epoch': 5, 'tuner/bracket': 3, 'tuner/round': 3, 'tuner/trial_id': 'da0973adafb759349b00293e3ded0d1b'}\n",
      "Model: \"model\"\n",
      "_________________________________________________________________\n",
      " Layer (type)                Output Shape              Param #   \n",
      "=================================================================\n",
      " in1 (InputLayer)            [(None, 12)]              0         \n",
      "                                                                 \n",
      " hidden_0 (Dense)            (None, 192)               2496      \n",
      "                                                                 \n",
      " dropout (Dropout)           (None, 192)               0         \n",
      "                                                                 \n",
      " hidden_1 (Dense)            (None, 256)               49408     \n",
      "                                                                 \n",
      " dropout_1 (Dropout)         (None, 256)               0         \n",
      "                                                                 \n",
      " hidden_2 (Dense)            (None, 480)               123360    \n",
      "                                                                 \n",
      " dropout_2 (Dropout)         (None, 480)               0         \n",
      "                                                                 \n",
      " dense (Dense)               (None, 2)                 962       \n",
      "                                                                 \n",
      "=================================================================\n",
      "Total params: 176,226\n",
      "Trainable params: 176,226\n",
      "Non-trainable params: 0\n",
      "_________________________________________________________________\n",
      "WARNING:tensorflow:Unresolved object in checkpoint: (root).optimizer.iter\n",
      "WARNING:tensorflow:Unresolved object in checkpoint: (root).optimizer.beta_1\n",
      "WARNING:tensorflow:Unresolved object in checkpoint: (root).optimizer.beta_2\n",
      "WARNING:tensorflow:Unresolved object in checkpoint: (root).optimizer.decay\n",
      "WARNING:tensorflow:Unresolved object in checkpoint: (root).optimizer.learning_rate\n",
      "WARNING:tensorflow:A checkpoint was restored (e.g. tf.train.Checkpoint.restore or tf.keras.Model.load_weights) but not all checkpointed values were used. See above for specific issues. Use expect_partial() on the load status object, e.g. tf.train.Checkpoint.restore(...).expect_partial(), to silence these warnings, or use assert_consumed() to make the check explicit. See https://www.tensorflow.org/guide/checkpoint#loading_mechanics for details.\n",
      "WARNING:tensorflow:Unresolved object in checkpoint: (root).optimizer.iter\n",
      "WARNING:tensorflow:Unresolved object in checkpoint: (root).optimizer.beta_1\n",
      "WARNING:tensorflow:Unresolved object in checkpoint: (root).optimizer.beta_2\n",
      "WARNING:tensorflow:Unresolved object in checkpoint: (root).optimizer.decay\n",
      "WARNING:tensorflow:Unresolved object in checkpoint: (root).optimizer.learning_rate\n",
      "WARNING:tensorflow:A checkpoint was restored (e.g. tf.train.Checkpoint.restore or tf.keras.Model.load_weights) but not all checkpointed values were used. See above for specific issues. Use expect_partial() on the load status object, e.g. tf.train.Checkpoint.restore(...).expect_partial(), to silence these warnings, or use assert_consumed() to make the check explicit. See https://www.tensorflow.org/guide/checkpoint#loading_mechanics for details.\n",
      "WARNING:tensorflow:Unresolved object in checkpoint: (root).optimizer.iter\n",
      "WARNING:tensorflow:Unresolved object in checkpoint: (root).optimizer.beta_1\n",
      "WARNING:tensorflow:Unresolved object in checkpoint: (root).optimizer.beta_2\n",
      "WARNING:tensorflow:Unresolved object in checkpoint: (root).optimizer.decay\n",
      "WARNING:tensorflow:Unresolved object in checkpoint: (root).optimizer.learning_rate\n",
      "WARNING:tensorflow:A checkpoint was restored (e.g. tf.train.Checkpoint.restore or tf.keras.Model.load_weights) but not all checkpointed values were used. See above for specific issues. Use expect_partial() on the load status object, e.g. tf.train.Checkpoint.restore(...).expect_partial(), to silence these warnings, or use assert_consumed() to make the check explicit. See https://www.tensorflow.org/guide/checkpoint#loading_mechanics for details.\n"
     ]
    }
   ],
   "source": [
    "input_shape = (len(X_train.keys()),)\n",
    "num_outputs = len(y_train.keys())\n",
    "\n",
    "my_tuning = tuning.Tuning(input_shape, num_outputs)\n",
    "hyperband = my_tuning.hyperband_search(objective='root_mean_squared_error',\n",
    "                                       mode='min',\n",
    "                                       max_epochs=10,\n",
    "                                       factor=2,\n",
    "                                       hyperband_iterations=1,\n",
    "                                       executions_per_trial=3,\n",
    "                                       hypermodel=my_tuning.create_hypermodel,\n",
    "                                       directory='logs/hyperband',\n",
    "                                       project_name='boston_housing',\n",
    "                                       logger=TensorBoardLogger(\n",
    "                                            metrics=['root_mean_squared_error'], \n",
    "                                            logdir='logs/hyperband/hparams'\n",
    "                                       ),\n",
    "                                       X=X_train_scaled,\n",
    "                                       y=y_train)\n",
    "\n",
    "hyperband_params = hyperband.get_best_hyperparameters(num_trials=1)[0]\n",
    "hyperband_model = hyperband.get_best_models()[0]\n",
    "print(hyperband_params.values)\n",
    "hyperband_model.summary()"
   ]
  },
  {
   "cell_type": "markdown",
   "id": "84356f7d-0ceb-401e-bdd3-50103e81990d",
   "metadata": {
    "tags": []
   },
   "source": [
    "## Tuners - randomsearch"
   ]
  },
  {
   "cell_type": "code",
   "execution_count": 14,
   "id": "afd7ed9e-67c7-4bcd-98df-9301f9b225b0",
   "metadata": {
    "scrolled": true,
    "tags": []
   },
   "outputs": [
    {
     "name": "stdout",
     "output_type": "stream",
     "text": [
      "Trial 256 Complete [00h 00m 03s]\n",
      "root_mean_squared_error: 4.3555192947387695\n",
      "\n",
      "Best root_mean_squared_error So Far: 3.9535624980926514\n",
      "Total elapsed time: 00h 11m 34s\n",
      "INFO:tensorflow:Oracle triggered exit\n",
      "{'layers': 3, 'units_0': 192, 'units_1': 192, 'units_2': 320, 'units_3': 256, 'dropout_rate': 0.2, 'l2': 0.0005, 'learning_rate': 0.0025, 'batch_size': 32}\n",
      "Model: \"sequential\"\n",
      "_________________________________________________________________\n",
      " Layer (type)                Output Shape              Param #   \n",
      "=================================================================\n",
      " hidden_0 (Dense)            (None, 192)               2496      \n",
      "                                                                 \n",
      " dropout (Dropout)           (None, 192)               0         \n",
      "                                                                 \n",
      " hidden_1 (Dense)            (None, 192)               37056     \n",
      "                                                                 \n",
      " dropout_1 (Dropout)         (None, 192)               0         \n",
      "                                                                 \n",
      " hidden_2 (Dense)            (None, 320)               61760     \n",
      "                                                                 \n",
      " dropout_2 (Dropout)         (None, 320)               0         \n",
      "                                                                 \n",
      " dense (Dense)               (None, 2)                 642       \n",
      "                                                                 \n",
      "=================================================================\n",
      "Total params: 101,954\n",
      "Trainable params: 101,954\n",
      "Non-trainable params: 0\n",
      "_________________________________________________________________\n"
     ]
    }
   ],
   "source": [
    "randomsearch = my_tuning.random_search(objective='root_mean_squared_error',\n",
    "                                       mode='min',\n",
    "                                       max_trials=256,\n",
    "                                       executions_per_trial=3,\n",
    "                                       hypermodel=my_tuning.create_hypermodel,\n",
    "                                       directory='logs/randomsearch',\n",
    "                                       project_name='boston_housing',\n",
    "                                       logger=TensorBoardLogger(\n",
    "                                            metrics=['root_mean_squared_error'], \n",
    "                                            logdir='logs/randomsearch/hparams'\n",
    "                                       ),\n",
    "                                       X=X_train_scaled,\n",
    "                                       y=y_train)\n",
    "\n",
    "randomsearch_params = randomsearch.get_best_hyperparameters(num_trials=1)[0]\n",
    "randomsearch_model = randomsearch.get_best_models()[0]\n",
    "print(randomsearch_params.values)\n",
    "randomsearch_model.summary()"
   ]
  },
  {
   "cell_type": "markdown",
   "id": "b2dee032-876a-4150-a02c-107da0615537",
   "metadata": {},
   "source": [
    "## Tuners - bayesiansearch"
   ]
  },
  {
   "cell_type": "code",
   "execution_count": 15,
   "id": "88bf6d6f-8232-4d77-9591-b4fdf4d451b9",
   "metadata": {},
   "outputs": [
    {
     "name": "stdout",
     "output_type": "stream",
     "text": [
      "Trial 256 Complete [00h 00m 02s]\n",
      "root_mean_squared_error: 3.5609042644500732\n",
      "\n",
      "Best root_mean_squared_error So Far: 3.3819071451822915\n",
      "Total elapsed time: 00h 27m 57s\n",
      "INFO:tensorflow:Oracle triggered exit\n",
      "{'layers': 2, 'units_0': 512, 'units_1': 512, 'units_2': 288, 'units_3': 32, 'dropout_rate': 0.2, 'l2': 0.0005, 'learning_rate': 0.0025, 'batch_size': 32}\n",
      "Model: \"sequential\"\n",
      "_________________________________________________________________\n",
      " Layer (type)                Output Shape              Param #   \n",
      "=================================================================\n",
      " hidden_0 (Dense)            (None, 512)               6656      \n",
      "                                                                 \n",
      " dropout (Dropout)           (None, 512)               0         \n",
      "                                                                 \n",
      " hidden_1 (Dense)            (None, 512)               262656    \n",
      "                                                                 \n",
      " dropout_1 (Dropout)         (None, 512)               0         \n",
      "                                                                 \n",
      " dense (Dense)               (None, 2)                 1026      \n",
      "                                                                 \n",
      "=================================================================\n",
      "Total params: 270,338\n",
      "Trainable params: 270,338\n",
      "Non-trainable params: 0\n",
      "_________________________________________________________________\n"
     ]
    }
   ],
   "source": [
    "bayesiansearch = my_tuning.bayesian_search(objective='root_mean_squared_error',\n",
    "                                            mode='min',\n",
    "                                            max_trials=256,\n",
    "                                            alpha=.00025,\n",
    "                                            beta=2.75,\n",
    "                                            executions_per_trial=3,\n",
    "                                            hypermodel=my_tuning.create_hypermodel,\n",
    "                                            directory='logs/bayesiansearch',\n",
    "                                            project_name='boston_housing',\n",
    "                                            logger=TensorBoardLogger(\n",
    "                                                metrics=['root_mean_squared_error'], \n",
    "                                                logdir='logs/bayesiansearch/hparams'\n",
    "                                            ),\n",
    "                                            X=X_train_scaled,\n",
    "                                            y=y_train)\n",
    "\n",
    "bayesiansearch_params = bayesiansearch.get_best_hyperparameters(num_trials=1)[0]\n",
    "bayesiansearch_model = bayesiansearch.get_best_models()[0]\n",
    "print(bayesiansearch_params.values)\n",
    "bayesiansearch_model.summary()"
   ]
  },
  {
   "cell_type": "markdown",
   "id": "55d95a13-3b5e-4502-9302-3601d3ebc938",
   "metadata": {},
   "source": [
    "## now build the models with the following parameter sets"
   ]
  },
  {
   "cell_type": "code",
   "execution_count": 19,
   "id": "d65efd7a-3044-4290-9b90-5da84d3510d3",
   "metadata": {},
   "outputs": [],
   "source": [
    "my_params = []\n",
    "my_params.append(tuning.MyParameters(layers=3, units=[352, 224, 96], dropout_rate=.2, l2=.001, learning_rate=.0025, metric='root_mean_squared_error', score=4.24))\n",
    "my_params.append(tuning.MyParameters(layers=3, units=[256, 224, 96], dropout_rate=.2, l2=.00025, learning_rate=.0025, metric='root_mean_squared_error', score=5.20))\n",
    "my_params.append(tuning.MyParameters(layers=2, units=[384, 192], dropout_rate=.2, l2=.0005, learning_rate=.0025, metric='root_mean_squared_error', score=4.68))\n",
    "my_params.append(tuning.MyParameters(layers=2, units=[352, 192], dropout_rate=.25, l2=.0005, learning_rate=.0025, metric='root_mean_squared_error', score=5.39))\n",
    "my_params.append(tuning.MyParameters(layers=4, units=[416, 480, 416, 448], dropout_rate=.2, l2=.001, learning_rate=.001, metric='root_mean_squared_error', score=3.78))"
   ]
  },
  {
   "cell_type": "code",
   "execution_count": null,
   "id": "d1b56058-8cd5-474c-8029-48577d777c4a",
   "metadata": {},
   "outputs": [],
   "source": [
    "input_shape = (len(X_train.keys()),)\n",
    "num_outputs = len(y_train.keys())\n",
    "my_tuning = tuning.Tuning(input_shape, num_outputs)\n",
    "models = []\n",
    "for params in my_params:\n",
    "    models.append(my_tuning.build_model(params))\n",
    "    \n",
    "for model in models:\n",
    "    print(model.summary())"
   ]
  },
  {
   "cell_type": "markdown",
   "id": "13810db6-6cb0-4d8e-b0e3-932fa37a1ea3",
   "metadata": {},
   "source": [
    "## Randomized K Fold cross validation\n",
    "- built in method doesn't work for continuous variables"
   ]
  },
  {
   "cell_type": "code",
   "execution_count": null,
   "id": "24992137-151a-4d83-9f0c-f0639e02de02",
   "metadata": {
    "tags": []
   },
   "outputs": [],
   "source": [
    "col\n",
    "fold_scores[:,col].std()"
   ]
  },
  {
   "cell_type": "code",
   "execution_count": null,
   "id": "2f7da617-bf62-434f-8b3b-d7e4cbaa8296",
   "metadata": {
    "tags": []
   },
   "outputs": [],
   "source": [
    "final_scores = []\n",
    "final_stds = []\n",
    "sizes = []\n",
    "k = 10\n",
    "models = []\n",
    "traces = []\n",
    "\n",
    "batch_size = 32\n",
    "epochs = 100\n",
    "monitor = 'val_root_mean_squared_error'\n",
    "mode = 'min'\n",
    "min_delta = .1\n",
    "patience = 10\n",
    "\n",
    "\n",
    "\n",
    "early_stopping = keras.callbacks.EarlyStopping(monitor=monitor,\n",
    "                                               mode=mode,\n",
    "                                               min_delta=min_delta,\n",
    "                                               patience=patience,\n",
    "                                               verbose=0,\n",
    "                                               restore_best_weights=True)\n",
    "\n",
    "# my_params\n",
    "for j in range(len(my_params)):\n",
    "    fold_scores = []\n",
    "    name = f'model{j}'\n",
    "    save_dir = f'models/'\n",
    "    \n",
    "    # k folds\n",
    "    for i in range(k):\n",
    "        X_train, X_test, y_train, y_test = train_test_split(df, y_df, test_size=.15, random_state=np.random.randint(10000), shuffle=True)\n",
    "        X_train, X_val, y_train, y_val = train_test_split(X_train, y_train, test_size=.10, random_state=np.random.randint(10000), shuffle=True)\n",
    "        scaler = MinMaxScaler(feature_range=(-1,1))\n",
    "        X_train_scaled = scaler.fit_transform(X_train)\n",
    "        X_val_scaled = scaler.transform(X_val)\n",
    "        X_test_scaled = scaler.transform(X_test)\n",
    "\n",
    "        model = my_tuning.build_model(my_params[j])\n",
    "\n",
    "        history = model.fit(X_train_scaled, y_train,\n",
    "                            batch_size=batch_size,\n",
    "                            epochs=epochs,\n",
    "                            validation_data=(X_val_scaled, y_val),\n",
    "                            callbacks=[early_stopping], \n",
    "                            verbose=0)\n",
    "        \n",
    "        evaluation = model.evaluate(X_test_scaled, y_test, batch_size=batch_size, verbose=0)\n",
    "        \n",
    "        fold_scores.append(np.array([history.history['loss'][-1],\n",
    "                                     history.history['val_loss'][-1],\n",
    "                                     evaluation[0],\n",
    "                                     history.history['root_mean_squared_error'][-1],\n",
    "                                     history.history['val_root_mean_squared_error'][-1],\n",
    "                                     evaluation[1]]))\n",
    "\n",
    "    traces.append([y_test, model.predict(X_test_scaled)])\n",
    "    fold_scores = np.stack(fold_scores, axis=0)\n",
    "    scores = []\n",
    "    stds = []\n",
    "    for col in range(fold_scores.shape[1]):\n",
    "        scores.append(fold_scores[:,col].mean())\n",
    "        stds.append(fold_scores[:,col].std())\n",
    "    final_scores.append(np.array(scores))\n",
    "    final_stds.append(np.array(stds))\n",
    "        \n",
    "    if not os.path.exists(save_dir):\n",
    "        os.makedirs(save_dir)\n",
    "    \n",
    "    models.append(model)\n",
    "    model.save(save_dir + name + '/model.h5')\n",
    "    \n",
    "    sizes.append(os.path.getsize(save_dir + name + '/model.h5')/1024**2)\n",
    "    \n",
    "    \n",
    "    with open(save_dir + name + '/scores.txt', 'w') as f:\n",
    "        f.write(str(scores))\n",
    "        f.write('\\n' + str(sizes[j]))\n",
    "        \n",
    "    with open(save_dir + name + '/summary.txt', 'w') as f:\n",
    "        model.summary(print_fn=lambda x: f.write(x + '\\n'))\n",
    "    \n",
    "    utils.make_plot(type='loss_plot',\n",
    "                save_fig=1,\n",
    "                X_val=X_val,\n",
    "                y_val=y_val,\n",
    "                history=history.history,\n",
    "                directory=save_dir + name + '/',\n",
    "                input_name='')\n",
    "\n",
    "    utils.make_plot(type='error_plot',\n",
    "                    save_fig=1,\n",
    "                    X_val=X_val,\n",
    "                    y_val=y_val,\n",
    "                    history=history.history,\n",
    "                    directory=save_dir + name + '/',\n",
    "                    input_name='')\n",
    "    \n",
    "final_scores = np.stack(final_scores, axis=0)\n",
    "final_stds = np.stack(final_stds, axis=0)\n",
    "cols = ['train_loss', 'val_loss', 'test_loss', 'train_rmse', 'val_rmse', 'test_rmse']\n",
    "results_df = pd.DataFrame(data=final_scores, columns=cols)\n",
    "results_df['sizes'] = sizes\n",
    "results_df = results_df.round(3)\n",
    "results_df['model'] = [f'mdl_{i}' for i in range(0, len(my_params))]\n",
    "results_df.head()\n",
    "\n",
    "std_df = pd.DataFrame(data=final_stds, columns=cols)\n",
    "std_df = std_df.round(4)\n",
    "std_df['model'] = [f'mdl_{i}' for i in range(0, len(my_params))]"
   ]
  },
  {
   "cell_type": "code",
   "execution_count": 55,
   "id": "2237ad6d-8a5c-4cc6-82f0-10673101c38d",
   "metadata": {
    "tags": []
   },
   "outputs": [
    {
     "data": {
      "text/plain": [
       "1.251"
      ]
     },
     "execution_count": 55,
     "metadata": {},
     "output_type": "execute_result"
    }
   ],
   "source": [
    "results_df[x][0]"
   ]
  },
  {
   "cell_type": "code",
   "execution_count": 76,
   "id": "005635a2-7785-413b-937e-04cd99cad5cc",
   "metadata": {
    "tags": []
   },
   "outputs": [
    {
     "data": {
      "image/png": "[encoded data removed]",
      "text/plain": [
       "<Figure size 864x576 with 1 Axes>"
      ]
     },
     "metadata": {
      "needs_background": "light"
     },
     "output_type": "display_data"
    }
   ],
   "source": [
    "utils.plot_scatter_results(results_df=results_df, std_df=std_df, x='sizes', y='val_rmse')"
   ]
  },
  {
   "cell_type": "markdown",
   "id": "24546189-73ad-435d-b5a2-ef4941779d06",
   "metadata": {},
   "source": [
    "## Visualize the results"
   ]
  },
  {
   "cell_type": "code",
   "execution_count": 25,
   "id": "a97db21c-5c40-45d4-ac38-e133b2a0ee25",
   "metadata": {},
   "outputs": [
    {
     "data": {
      "image/png": "[encoded data removed]",
      "text/plain": [
       "<Figure size 432x288 with 1 Axes>"
      ]
     },
     "metadata": {
      "needs_background": "light"
     },
     "output_type": "display_data"
    },
    {
     "data": {
      "image/png": "[encoded data removed]",
      "text/plain": [
       "<Figure size 432x288 with 1 Axes>"
      ]
     },
     "metadata": {
      "needs_background": "light"
     },
     "output_type": "display_data"
    },
    {
     "data": {
      "image/png": "[encoded data removed]",
      "text/plain": [
       "<Figure size 432x288 with 1 Axes>"
      ]
     },
     "metadata": {
      "needs_background": "light"
     },
     "output_type": "display_data"
    }
   ],
   "source": [
    "y = 'train_rmse'\n",
    "results_df = results_df.sort_values(by=[y])\n",
    "sns.barplot(x=results_df['model'], y=y, data=results_df, hue='sizes', palette='Blues', dodge=False)\n",
    "plt.legend(bbox_to_anchor=(1.05, 1), loc=2, borderaxespad=0.0)\n",
    "plt.show()\n",
    "\n",
    "y = 'val_rmse'\n",
    "results_df = results_df.sort_values(by=[y])\n",
    "sns.barplot(x=results_df['model'], y=y, data=results_df, hue='sizes', palette='Blues', dodge=False)\n",
    "plt.legend(bbox_to_anchor=(1.05, 1), loc=2, borderaxespad=0.0)\n",
    "plt.show()\n",
    "\n",
    "y = 'test_rmse'\n",
    "results_df = results_df.sort_values(by=[y])\n",
    "sns.barplot(x=results_df['model'], y=y, data=results_df, hue='sizes', palette='Blues', dodge=False)\n",
    "plt.legend(bbox_to_anchor=(1.05, 1), loc=2, borderaxespad=0.0)\n",
    "plt.show()"
   ]
  },
  {
   "cell_type": "code",
   "execution_count": null,
   "id": "690aac53-c093-4d8c-bb26-62a47ceb7ceb",
   "metadata": {},
   "outputs": [],
   "source": [
    "plt.figure(figsize=(12,8))\n",
    "plt.plot(traces[0][0]['medv'].values)\n",
    "plt.plot(traces[0][1][:,0])\n",
    "plt.show()"
   ]
  },
  {
   "cell_type": "code",
   "execution_count": 43,
   "id": "a25455b0-34f6-463e-a4bb-777216522ab3",
   "metadata": {},
   "outputs": [
    {
     "data": {
      "text/html": [
       "<div>\n",
       "<style scoped>\n",
       "    .dataframe tbody tr th:only-of-type {\n",
       "        vertical-align: middle;\n",
       "    }\n",
       "\n",
       "    .dataframe tbody tr th {\n",
       "        vertical-align: top;\n",
       "    }\n",
       "\n",
       "    .dataframe thead th {\n",
       "        text-align: right;\n",
       "    }\n",
       "</style>\n",
       "<table border=\"1\" class=\"dataframe\">\n",
       "  <thead>\n",
       "    <tr style=\"text-align: right;\">\n",
       "      <th></th>\n",
       "      <th>train_loss</th>\n",
       "      <th>val_loss</th>\n",
       "      <th>test_loss</th>\n",
       "      <th>train_rmse</th>\n",
       "      <th>val_rmse</th>\n",
       "      <th>test_rmse</th>\n",
       "      <th>model</th>\n",
       "    </tr>\n",
       "  </thead>\n",
       "  <tbody>\n",
       "    <tr>\n",
       "      <th>0</th>\n",
       "      <td>1.5408</td>\n",
       "      <td>3.1867</td>\n",
       "      <td>1.4062</td>\n",
       "      <td>0.2031</td>\n",
       "      <td>0.4843</td>\n",
       "      <td>0.2611</td>\n",
       "      <td>mdl_0</td>\n",
       "    </tr>\n",
       "    <tr>\n",
       "      <th>1</th>\n",
       "      <td>1.3044</td>\n",
       "      <td>2.6434</td>\n",
       "      <td>2.2637</td>\n",
       "      <td>0.1862</td>\n",
       "      <td>0.4627</td>\n",
       "      <td>0.3984</td>\n",
       "      <td>mdl_1</td>\n",
       "    </tr>\n",
       "    <tr>\n",
       "      <th>2</th>\n",
       "      <td>0.8506</td>\n",
       "      <td>4.3591</td>\n",
       "      <td>4.9006</td>\n",
       "      <td>0.1341</td>\n",
       "      <td>0.6455</td>\n",
       "      <td>0.7639</td>\n",
       "      <td>mdl_2</td>\n",
       "    </tr>\n",
       "    <tr>\n",
       "      <th>3</th>\n",
       "      <td>0.7788</td>\n",
       "      <td>5.8429</td>\n",
       "      <td>1.9958</td>\n",
       "      <td>0.1228</td>\n",
       "      <td>0.8385</td>\n",
       "      <td>0.3907</td>\n",
       "      <td>mdl_3</td>\n",
       "    </tr>\n",
       "    <tr>\n",
       "      <th>4</th>\n",
       "      <td>1.0045</td>\n",
       "      <td>5.0714</td>\n",
       "      <td>1.4535</td>\n",
       "      <td>0.1566</td>\n",
       "      <td>0.7182</td>\n",
       "      <td>0.2843</td>\n",
       "      <td>mdl_4</td>\n",
       "    </tr>\n",
       "  </tbody>\n",
       "</table>\n",
       "</div>"
      ],
      "text/plain": [
       "   train_loss  val_loss  test_loss  train_rmse  val_rmse  test_rmse  model\n",
       "0      1.5408    3.1867     1.4062      0.2031    0.4843     0.2611  mdl_0\n",
       "1      1.3044    2.6434     2.2637      0.1862    0.4627     0.3984  mdl_1\n",
       "2      0.8506    4.3591     4.9006      0.1341    0.6455     0.7639  mdl_2\n",
       "3      0.7788    5.8429     1.9958      0.1228    0.8385     0.3907  mdl_3\n",
       "4      1.0045    5.0714     1.4535      0.1566    0.7182     0.2843  mdl_4"
      ]
     },
     "execution_count": 43,
     "metadata": {},
     "output_type": "execute_result"
    }
   ],
   "source": [
    "std_df"
   ]
  },
  {
   "cell_type": "code",
   "execution_count": null,
   "id": "74fad043-0726-40c5-bca2-48e35339d7bf",
   "metadata": {},
   "outputs": [],
   "source": []
  },
  {
   "cell_type": "code",
   "execution_count": null,
   "id": "17e5ad5f-36ff-4e59-9b95-12578b03e7e1",
   "metadata": {},
   "outputs": [],
   "source": []
  },
  {
   "cell_type": "code",
   "execution_count": null,
   "id": "0f7bdae5-3c61-427a-939b-3c90bfceb7a5",
   "metadata": {},
   "outputs": [],
   "source": []
  }
 ],
 "metadata": {
  "kernelspec": {
   "display_name": "tfgpu",
   "language": "python",
   "name": "tfgpu"
  },
  "language_info": {
   "codemirror_mode": {
    "name": "ipython",
    "version": 3
   },
   "file_extension": ".py",
   "mimetype": "text/x-python",
   "name": "python",
   "nbconvert_exporter": "python",
   "pygments_lexer": "ipython3",
   "version": "3.8.12"
  }
 },
 "nbformat": 4,
 "nbformat_minor": 5
}
