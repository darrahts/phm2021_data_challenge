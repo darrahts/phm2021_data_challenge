{
 "cells": [
  {
   "cell_type": "markdown",
   "id": "normal-feature",
   "metadata": {},
   "source": [
    "# PREPROCESSING FILE\n",
    "- loads the datasets you choose,\n",
    "- creates a dataframe\n",
    "- resamples\n",
    "- saves\n",
    "#### Do this here, then use another notebook for individual tasks\n",
    "### imports"
   ]
  },
  {
   "cell_type": "code",
   "execution_count": 1,
   "id": "aggressive-township",
   "metadata": {},
   "outputs": [],
   "source": [
    "import os\n",
    "import sys\n",
    "import pickle\n",
    "import h5py\n",
    "import time\n",
    "import numpy as np\n",
    "import pandas as pd\n",
    "import seaborn as sns\n",
    "import matplotlib.pyplot as plt\n",
    "import scipy.stats as stats\n",
    "import math\n",
    "import random\n",
    "import gc\n",
    "import string\n",
    "import multiprocessing as mp\n",
    "import tensorflow as tf\n",
    "import json\n",
    "\n",
    "base_dir = os.path.dirname(os.getcwd())\n",
    "\n",
    "sys.path.insert(1, base_dir)\n",
    "from package.api import DB as api\n",
    "import package.utils as utils\n",
    "\n",
    "%matplotlib inline\n",
    "%load_ext autoreload\n",
    "%autoreload 2"
   ]
  },
  {
   "cell_type": "markdown",
   "id": "coordinate-scheduling",
   "metadata": {},
   "source": [
    "## load all data"
   ]
  },
  {
   "cell_type": "code",
   "execution_count": 2,
   "id": "solid-friendship",
   "metadata": {},
   "outputs": [
    {
     "name": "stdout",
     "output_type": "stream",
     "text": [
      "N-CMAPSS_DS01-005.h5\n",
      "dev\n",
      "<N-CMAPSS_DS01-005.h5> : [1. 2. 3. 4. 5. 6.]\n",
      "test\n",
      "<N-CMAPSS_DS01-005.h5> : [ 7.  8.  9. 10.]\n"
     ]
    }
   ],
   "source": [
    "h5_dir = 'data_h5'\n",
    "fnames = [\n",
    "    'N-CMAPSS_DS01-005.h5',\n",
    "    'N-CMAPSS_DS03-012.h5',\n",
    "    'N-CMAPSS_DS04.h5',\n",
    "    'N-CMAPSS_DS05.h5',\n",
    "    'N-CMAPSS_DS06.h5',\n",
    "    'N-CMAPSS_DS07.h5',\n",
    "    'N-CMAPSS_DS08a-009.h5',\n",
    "    'N-CMAPSS_DS08c-008.h5'\n",
    "]\n",
    "\n",
    "sets = ['dev', 'test']\n",
    "\n",
    "df = pd.DataFrame()\n",
    "ui = 0\n",
    "\n",
    "for filename in fnames:\n",
    "    print(filename)\n",
    "    for _set in sets:\n",
    "        print(_set)\n",
    "        with h5py.File(os.path.join(base_dir, h5_dir, filename), 'r') as hdf:\n",
    "            a_data = np.array(hdf.get(f\"A_{_set}\"))\n",
    "            w_data = np.array(hdf.get(f\"W_{_set}\"))\n",
    "            x_data = np.array(hdf.get(f\"X_s_{_set}\"))\n",
    "            v_data = np.array(hdf.get(f\"X_v_{_set}\"))\n",
    "            t_data = np.array(hdf.get(f\"T_{_set}\"))\n",
    "            y_data = np.array(hdf.get(f\"Y_{_set}\"))\n",
    "\n",
    "            a_labels = [l.decode('utf-8') for l in list(np.array(hdf.get('A_var')))]\n",
    "            w_labels = [l.decode('utf-8') for l in list(np.array(hdf.get('W_var')))]\n",
    "            x_labels = [l.decode('utf-8') for l in list(np.array(hdf.get('X_s_var')))]\n",
    "            v_labels = [l.decode('utf-8') for l in list(np.array(hdf.get('X_v_var')))]\n",
    "            t_labels = [l.decode('utf-8') for l in list(np.array(hdf.get('T_var')))]\n",
    "            \n",
    "        df_a = pd.DataFrame(data=a_data, columns=a_labels)\n",
    "        df_a['ui'] = -1\n",
    "        df_a['dataset'] = filename.split('_')[1].split('.')[0]\n",
    "        df_w = pd.DataFrame(data=w_data, columns=w_labels)\n",
    "        df_x = pd.DataFrame(data=x_data, columns=x_labels)\n",
    "        df_v = pd.DataFrame(data=v_data, columns=v_labels)\n",
    "        df_t = pd.DataFrame(data=t_data, columns=t_labels)\n",
    "        df_y = pd.DataFrame(data=y_data, columns=['y'])\n",
    "        print(f\"<{filename}> : {pd.unique(df_a.unit)}\")\n",
    "        for n in list(pd.unique(df_a.unit)):\n",
    "            df_a.loc[df_a['unit'] == n, 'ui'] = ui\n",
    "            ui = ui + 1\n",
    "\n",
    "        df_temp = pd.concat([df_a, df_y, df_w, df_x, df_v, df_t], axis=1)\n",
    "        #print(df_temp.head())\n",
    "        if(len(df)) == 0:\n",
    "            df = df_temp\n",
    "        else:\n",
    "            df = pd.concat([df, df_temp], axis=0)      \n",
    "        \n",
    "        del df_a, df_w, df_x, df_v, df_t, df_y, a_data, w_data, t_data, x_data, y_data, df_temp\n",
    "    break\n",
    "    ####### NOTICE THE BREAK HERE!! only loading first dataset for testing purposes!!"
   ]
  },
  {
   "cell_type": "markdown",
   "id": "qualified-tractor",
   "metadata": {},
   "source": [
    "## get the labels"
   ]
  },
  {
   "cell_type": "code",
   "execution_count": 8,
   "id": "declared-combat",
   "metadata": {},
   "outputs": [
    {
     "name": "stdout",
     "output_type": "stream",
     "text": [
      "['alt', 'Mach', 'TRA', 'T2', 'T24', 'T30', 'T48', 'T50', 'P15', 'P2', 'P21', 'P24', 'Ps30', 'P40', 'P50', 'Nf', 'Nc', 'Wf']\n",
      "['alt', 'Mach', 'TRA', 'T2', 'T24', 'T30', 'T48', 'T50', 'P15', 'P2', 'P21', 'P24', 'Ps30', 'P40', 'P50', 'Nf', 'Nc', 'Wf']\n",
      "['T40', 'P30', 'P45', 'W21', 'W22', 'W25', 'W31', 'W32', 'W48', 'W50', 'SmFan', 'SmLPC', 'SmHPC', 'phi']\n"
     ]
    }
   ],
   "source": [
    "y_labels = t_labels\n",
    "t_labels = []\n",
    "t_labels.append(w_labels)\n",
    "t_labels.append(x_labels)\n",
    "t_labels = [l for labels in t_labels for l in labels]\n",
    "print(y_labels)\n",
    "print(t_labels)\n",
    "print(v_labels)"
   ]
  },
  {
   "cell_type": "markdown",
   "id": "described-shame",
   "metadata": {},
   "source": [
    "## create the augmented auxiliary data by aggregating over units"
   ]
  },
  {
   "cell_type": "code",
   "execution_count": 10,
   "id": "organic-words",
   "metadata": {},
   "outputs": [
    {
     "data": {
      "text/html": [
       "<div>\n",
       "<style scoped>\n",
       "    .dataframe tbody tr th:only-of-type {\n",
       "        vertical-align: middle;\n",
       "    }\n",
       "\n",
       "    .dataframe tbody tr th {\n",
       "        vertical-align: top;\n",
       "    }\n",
       "\n",
       "    .dataframe thead th {\n",
       "        text-align: right;\n",
       "    }\n",
       "</style>\n",
       "<table border=\"1\" class=\"dataframe\">\n",
       "  <thead>\n",
       "    <tr style=\"text-align: right;\">\n",
       "      <th></th>\n",
       "      <th>group_id</th>\n",
       "      <th>unit</th>\n",
       "      <th>dataset</th>\n",
       "      <th>age</th>\n",
       "      <th>eol</th>\n",
       "    </tr>\n",
       "  </thead>\n",
       "  <tbody>\n",
       "    <tr>\n",
       "      <th>0</th>\n",
       "      <td>1</td>\n",
       "      <td>1</td>\n",
       "      <td>DS01-005</td>\n",
       "      <td>0.0</td>\n",
       "      <td>100.0</td>\n",
       "    </tr>\n",
       "    <tr>\n",
       "      <th>1</th>\n",
       "      <td>3</td>\n",
       "      <td>2</td>\n",
       "      <td>DS01-005</td>\n",
       "      <td>0.0</td>\n",
       "      <td>75.0</td>\n",
       "    </tr>\n",
       "    <tr>\n",
       "      <th>2</th>\n",
       "      <td>2</td>\n",
       "      <td>3</td>\n",
       "      <td>DS01-005</td>\n",
       "      <td>0.0</td>\n",
       "      <td>100.0</td>\n",
       "    </tr>\n",
       "    <tr>\n",
       "      <th>3</th>\n",
       "      <td>1</td>\n",
       "      <td>4</td>\n",
       "      <td>DS01-005</td>\n",
       "      <td>0.0</td>\n",
       "      <td>95.0</td>\n",
       "    </tr>\n",
       "    <tr>\n",
       "      <th>4</th>\n",
       "      <td>3</td>\n",
       "      <td>5</td>\n",
       "      <td>DS01-005</td>\n",
       "      <td>0.0</td>\n",
       "      <td>89.0</td>\n",
       "    </tr>\n",
       "  </tbody>\n",
       "</table>\n",
       "</div>"
      ],
      "text/plain": [
       "   group_id  unit   dataset  age    eol\n",
       "0         1     1  DS01-005  0.0  100.0\n",
       "1         3     2  DS01-005  0.0   75.0\n",
       "2         2     3  DS01-005  0.0  100.0\n",
       "3         1     4  DS01-005  0.0   95.0\n",
       "4         3     5  DS01-005  0.0   89.0"
      ]
     },
     "execution_count": 10,
     "metadata": {},
     "output_type": "execute_result"
    }
   ],
   "source": [
    "df_aux = df[['ui', 'Fc', 'unit', 'dataset', 'cycle']].groupby('ui').agg({'Fc':'max',\n",
    "                                                                         'unit':'max',\n",
    "                                                                         'dataset':'max', \n",
    "                                                                         'cycle':['min','max']})\n",
    "df_aux.reset_index(inplace=True)\n",
    "df_aux.columns=['ui', 'group_id', 'unit', 'dataset', 'age', 'eol']\n",
    "df_aux.age = df_aux.age - 1.0\n",
    "df_aux.drop(columns=['ui'], inplace=True)\n",
    "df_aux.group_id = df_aux.group_id.astype(int)\n",
    "df_aux.unit = df_aux.unit.astype(int)\n",
    "df_aux.head()"
   ]
  },
  {
   "cell_type": "markdown",
   "id": "surprised-trick",
   "metadata": {},
   "source": [
    "## connect to db"
   ]
  },
  {
   "cell_type": "code",
   "execution_count": 7,
   "id": "substantial-logan",
   "metadata": {},
   "outputs": [
    {
     "name": "stdout",
     "output_type": "stream",
     "text": [
      "[INFO] connecting to db.\n",
      "[INFO] connected.\n"
     ]
    }
   ],
   "source": [
    "# THESE ARE YOUR CREDENTIALS IN PLAIN TEXT!\n",
    "params = utils.get_aws_secret(\"/secret/ncmapssdb\")\n",
    "#print(params)\n",
    "db, cur =  api.connect(params)\n",
    "db.set_session(autocommit=True)\n",
    "del(params)"
   ]
  },
  {
   "cell_type": "markdown",
   "id": "united-drawing",
   "metadata": {},
   "source": [
    "## create asset type"
   ]
  },
  {
   "cell_type": "code",
   "execution_count": 16,
   "id": "seasonal-analysis",
   "metadata": {},
   "outputs": [
    {
     "data": {
      "text/plain": [
       "1"
      ]
     },
     "execution_count": 16,
     "metadata": {},
     "output_type": "execute_result"
    }
   ],
   "source": [
    "asset_type.id.values[0]"
   ]
  },
  {
   "cell_type": "code",
   "execution_count": 13,
   "id": "civilian-preservation",
   "metadata": {},
   "outputs": [
    {
     "name": "stdout",
     "output_type": "stream",
     "text": [
      "   id    type  subtype                                description\n",
      "0   1  engine  ncmapss  turbine engine from N-CMAPSS dataset unit\n"
     ]
    }
   ],
   "source": [
    "asset_type = api._create_asset_type(asset_type='engine', subtype='ncmapss', description='turbine engine from N-CMAPSS dataset unit', db=db, cur=cur)\n",
    "print(asset_type)"
   ]
  },
  {
   "cell_type": "markdown",
   "id": "filled-daisy",
   "metadata": {},
   "source": [
    "## create assets and components"
   ]
  },
  {
   "cell_type": "code",
   "execution_count": 19,
   "id": "swiss-compilation",
   "metadata": {},
   "outputs": [
    {
     "name": "stdout",
     "output_type": "stream",
     "text": [
      "   id  type_id     owner process_id serial_number   common_name  age    eol  \\\n",
      "0   1        1  darrahts       None      3aWRj8uQ  ncmapss unit  0.0  100.0   \n",
      "\n",
      "     rul   units  \n",
      "0  100.0  cycles  \n",
      "None\n",
      "   id  type_id     owner process_id serial_number   common_name  age   eol  \\\n",
      "0   2        1  darrahts       None      LPZpHYGb  ncmapss unit  0.0  75.0   \n",
      "\n",
      "    rul   units  \n",
      "0  75.0  cycles  \n",
      "None\n",
      "   id  type_id     owner process_id serial_number   common_name  age    eol  \\\n",
      "0   3        1  darrahts       None      M6nCr2SF  ncmapss unit  0.0  100.0   \n",
      "\n",
      "     rul   units  \n",
      "0  100.0  cycles  \n",
      "None\n",
      "   id  type_id     owner process_id serial_number   common_name  age   eol  \\\n",
      "0   4        1  darrahts       None      CkC5eYKw  ncmapss unit  0.0  95.0   \n",
      "\n",
      "    rul   units  \n",
      "0  95.0  cycles  \n",
      "None\n",
      "   id  type_id     owner process_id serial_number   common_name  age   eol  \\\n",
      "0   5        1  darrahts       None      JW8sxrnK  ncmapss unit  0.0  89.0   \n",
      "\n",
      "    rul   units  \n",
      "0  89.0  cycles  \n",
      "None\n",
      "   id  type_id     owner process_id serial_number   common_name  age   eol  \\\n",
      "0   6        1  darrahts       None      PR5wpQPZ  ncmapss unit  0.0  94.0   \n",
      "\n",
      "    rul   units  \n",
      "0  94.0  cycles  \n",
      "None\n",
      "   id  type_id     owner process_id serial_number   common_name  age   eol  \\\n",
      "0   7        1  darrahts       None      uTLwAXiZ  ncmapss unit  0.0  90.0   \n",
      "\n",
      "    rul   units  \n",
      "0  90.0  cycles  \n",
      "None\n",
      "   id  type_id     owner process_id serial_number   common_name  age   eol  \\\n",
      "0   8        1  darrahts       None      QY24v5A5  ncmapss unit  0.0  89.0   \n",
      "\n",
      "    rul   units  \n",
      "0  89.0  cycles  \n",
      "None\n",
      "   id  type_id     owner process_id serial_number   common_name  age   eol  \\\n",
      "0   9        1  darrahts       None      MMLVxLpZ  ncmapss unit  0.0  80.0   \n",
      "\n",
      "    rul   units  \n",
      "0  80.0  cycles  \n",
      "None\n",
      "   id  type_id     owner process_id serial_number   common_name  age   eol  \\\n",
      "0  10        1  darrahts       None      6UDjyajt  ncmapss unit  0.0  82.0   \n",
      "\n",
      "    rul   units  \n",
      "0  82.0  cycles  \n",
      "None\n"
     ]
    }
   ],
   "source": [
    "# this could be rewritten as a function for use with df_aux.apply()....\n",
    "for i in range(0, len(df_aux)):\n",
    "    asset = api._create_asset(type_id=int(asset_type.id.values[0]),\n",
    "                              common_name='ncmapss unit',\n",
    "                              age=float(df_aux.iloc[i].age),\n",
    "                              eol=float(df_aux.iloc[i].eol),\n",
    "                              rul=float(df_aux.iloc[i].eol - df_aux.iloc[i].age),\n",
    "                              units='cycles',\n",
    "                              serial_number=utils.generate_serial_number(length=8),\n",
    "                              db=db,\n",
    "                              cur=cur)\n",
    "    print(asset)\n",
    "\n",
    "    component = api._create_component(asset=asset, \n",
    "                                      group_id=df_aux.iloc[i].group_id, \n",
    "                                      unit=df_aux.iloc[i].unit, \n",
    "                                      dataset=df_aux.iloc[i].dataset, \n",
    "                                      db=db, \n",
    "                                      cur=cur)\n",
    "    print(component)"
   ]
  },
  {
   "cell_type": "code",
   "execution_count": null,
   "id": "everyday-complaint",
   "metadata": {},
   "outputs": [],
   "source": []
  },
  {
   "cell_type": "code",
   "execution_count": null,
   "id": "negative-murray",
   "metadata": {},
   "outputs": [],
   "source": []
  },
  {
   "cell_type": "code",
   "execution_count": null,
   "id": "based-project",
   "metadata": {},
   "outputs": [],
   "source": []
  },
  {
   "cell_type": "code",
   "execution_count": null,
   "id": "painful-silence",
   "metadata": {},
   "outputs": [],
   "source": []
  },
  {
   "cell_type": "markdown",
   "id": "informative-database",
   "metadata": {},
   "source": [
    "## Misc usage"
   ]
  },
  {
   "cell_type": "code",
   "execution_count": 163,
   "id": "fabulous-soccer",
   "metadata": {},
   "outputs": [
    {
     "data": {
      "text/plain": [
       "1"
      ]
     },
     "execution_count": 163,
     "metadata": {},
     "output_type": "execute_result"
    }
   ],
   "source": [
    "api._create_asset_type(asset_type='engine', subtype='turbine', description='N-CMAPSS dataset unit', db=db, cur=cur)"
   ]
  },
  {
   "cell_type": "code",
   "execution_count": 156,
   "id": "variable-finish",
   "metadata": {},
   "outputs": [
    {
     "data": {
      "text/plain": [
       "['owner',\n",
       " 'type_id',\n",
       " 'process_id',\n",
       " 'serial_number',\n",
       " 'common_name',\n",
       " 'age',\n",
       " 'eol',\n",
       " 'rul',\n",
       " 'units']"
      ]
     },
     "execution_count": 156,
     "metadata": {},
     "output_type": "execute_result"
    }
   ],
   "source": [
    "asset_tb_cols = api.get_fields('asset_tb', as_list=True, db=db)\n",
    "asset_tb_cols.remove('id')\n",
    "asset_tb_cols"
   ]
  },
  {
   "cell_type": "code",
   "execution_count": 157,
   "id": "married-chick",
   "metadata": {},
   "outputs": [
    {
     "data": {
      "text/plain": [
       "['id', 'group_id', 'unit', 'dataset']"
      ]
     },
     "execution_count": 157,
     "metadata": {},
     "output_type": "execute_result"
    }
   ],
   "source": [
    "engine_tb_cols = api.get_fields('engine_tb', as_list=True, db=db)\n",
    "engine_tb_cols"
   ]
  },
  {
   "cell_type": "code",
   "execution_count": 278,
   "id": "lovely-declaration",
   "metadata": {},
   "outputs": [
    {
     "name": "stdout",
     "output_type": "stream",
     "text": [
      "          table_name\n",
      "0    process_type_tb\n",
      "1         process_tb\n",
      "2           group_tb\n",
      "3         summary_tb\n",
      "4       telemetry_tb\n",
      "5     degradation_tb\n",
      "6  engine_ncmapss_tb\n",
      "7      asset_type_tb\n",
      "8           asset_tb\n"
     ]
    }
   ],
   "source": [
    "db_tables = api.get_tables(db)\n",
    "print(db_tables)"
   ]
  },
  {
   "cell_type": "code",
   "execution_count": 328,
   "id": "romance-inspection",
   "metadata": {},
   "outputs": [
    {
     "data": {
      "text/html": [
       "<div>\n",
       "<style scoped>\n",
       "    .dataframe tbody tr th:only-of-type {\n",
       "        vertical-align: middle;\n",
       "    }\n",
       "\n",
       "    .dataframe tbody tr th {\n",
       "        vertical-align: top;\n",
       "    }\n",
       "\n",
       "    .dataframe thead th {\n",
       "        text-align: right;\n",
       "    }\n",
       "</style>\n",
       "<table border=\"1\" class=\"dataframe\">\n",
       "  <thead>\n",
       "    <tr style=\"text-align: right;\">\n",
       "      <th></th>\n",
       "      <th>group_id</th>\n",
       "      <th>unit</th>\n",
       "      <th>dataset</th>\n",
       "      <th>age</th>\n",
       "      <th>eol</th>\n",
       "    </tr>\n",
       "  </thead>\n",
       "  <tbody>\n",
       "    <tr>\n",
       "      <th>0</th>\n",
       "      <td>1.0</td>\n",
       "      <td>1.0</td>\n",
       "      <td>DS01-005</td>\n",
       "      <td>1.0</td>\n",
       "      <td>100.0</td>\n",
       "    </tr>\n",
       "    <tr>\n",
       "      <th>1</th>\n",
       "      <td>3.0</td>\n",
       "      <td>2.0</td>\n",
       "      <td>DS01-005</td>\n",
       "      <td>1.0</td>\n",
       "      <td>75.0</td>\n",
       "    </tr>\n",
       "    <tr>\n",
       "      <th>2</th>\n",
       "      <td>2.0</td>\n",
       "      <td>3.0</td>\n",
       "      <td>DS01-005</td>\n",
       "      <td>1.0</td>\n",
       "      <td>100.0</td>\n",
       "    </tr>\n",
       "    <tr>\n",
       "      <th>3</th>\n",
       "      <td>1.0</td>\n",
       "      <td>4.0</td>\n",
       "      <td>DS01-005</td>\n",
       "      <td>1.0</td>\n",
       "      <td>95.0</td>\n",
       "    </tr>\n",
       "    <tr>\n",
       "      <th>4</th>\n",
       "      <td>3.0</td>\n",
       "      <td>5.0</td>\n",
       "      <td>DS01-005</td>\n",
       "      <td>1.0</td>\n",
       "      <td>89.0</td>\n",
       "    </tr>\n",
       "  </tbody>\n",
       "</table>\n",
       "</div>"
      ],
      "text/plain": [
       "   group_id  unit   dataset  age    eol\n",
       "0       1.0   1.0  DS01-005  1.0  100.0\n",
       "1       3.0   2.0  DS01-005  1.0   75.0\n",
       "2       2.0   3.0  DS01-005  1.0  100.0\n",
       "3       1.0   4.0  DS01-005  1.0   95.0\n",
       "4       3.0   5.0  DS01-005  1.0   89.0"
      ]
     },
     "execution_count": 328,
     "metadata": {},
     "output_type": "execute_result"
    }
   ],
   "source": [
    "i = 0\n",
    "df_aux.head()"
   ]
  },
  {
   "cell_type": "code",
   "execution_count": 335,
   "id": "applied-appraisal",
   "metadata": {},
   "outputs": [],
   "source": []
  },
  {
   "cell_type": "code",
   "execution_count": null,
   "id": "sporting-hunter",
   "metadata": {},
   "outputs": [],
   "source": []
  },
  {
   "cell_type": "code",
   "execution_count": 239,
   "id": "latest-occasions",
   "metadata": {},
   "outputs": [],
   "source": []
  },
  {
   "cell_type": "code",
   "execution_count": 239,
   "id": "similar-synthesis",
   "metadata": {},
   "outputs": [
    {
     "name": "stdout",
     "output_type": "stream",
     "text": [
      "select * from asset_tb where \"serial_number\" = 'sd3kg0dk00';\n",
      "<connection object at 0x00000220A9C1C378; dsn: 'user=darrahts password=xxx dbname=ncmapss_db host=10.166.1.192 port=5432', closed: 0>\n"
     ]
    },
    {
     "data": {
      "text/html": [
       "<div>\n",
       "<style scoped>\n",
       "    .dataframe tbody tr th:only-of-type {\n",
       "        vertical-align: middle;\n",
       "    }\n",
       "\n",
       "    .dataframe tbody tr th {\n",
       "        vertical-align: top;\n",
       "    }\n",
       "\n",
       "    .dataframe thead th {\n",
       "        text-align: right;\n",
       "    }\n",
       "</style>\n",
       "<table border=\"1\" class=\"dataframe\">\n",
       "  <thead>\n",
       "    <tr style=\"text-align: right;\">\n",
       "      <th></th>\n",
       "      <th>id</th>\n",
       "      <th>type_id</th>\n",
       "      <th>owner</th>\n",
       "      <th>process_id</th>\n",
       "      <th>serial_number</th>\n",
       "      <th>common_name</th>\n",
       "      <th>age</th>\n",
       "      <th>eol</th>\n",
       "      <th>rul</th>\n",
       "      <th>units</th>\n",
       "    </tr>\n",
       "  </thead>\n",
       "  <tbody>\n",
       "    <tr>\n",
       "      <th>0</th>\n",
       "      <td>1</td>\n",
       "      <td>1</td>\n",
       "      <td>darrahts</td>\n",
       "      <td>None</td>\n",
       "      <td>sd3kg0dk00</td>\n",
       "      <td>ncmapss unit</td>\n",
       "      <td>0.0</td>\n",
       "      <td>100.0</td>\n",
       "      <td>100.0</td>\n",
       "      <td>cycles</td>\n",
       "    </tr>\n",
       "  </tbody>\n",
       "</table>\n",
       "</div>"
      ],
      "text/plain": [
       "   id  type_id     owner process_id serial_number   common_name  age    eol  \\\n",
       "0   1        1  darrahts       None    sd3kg0dk00  ncmapss unit  0.0  100.0   \n",
       "\n",
       "     rul   units  \n",
       "0  100.0  cycles  "
      ]
     },
     "execution_count": 239,
     "metadata": {},
     "output_type": "execute_result"
    }
   ],
   "source": [
    "api._get_asset(serial_number='sd3kg0dk00', db=db)"
   ]
  },
  {
   "cell_type": "code",
   "execution_count": 216,
   "id": "obvious-engine",
   "metadata": {},
   "outputs": [],
   "source": []
  },
  {
   "cell_type": "code",
   "execution_count": 216,
   "id": "rubber-baghdad",
   "metadata": {},
   "outputs": [],
   "source": [
    "api.table_exists(f\"{asset_type.type.values[0]}_{asset_type.subtype.values[0]}_tb\", db)"
   ]
  },
  {
   "cell_type": "code",
   "execution_count": null,
   "id": "modern-configuration",
   "metadata": {},
   "outputs": [],
   "source": []
  },
  {
   "cell_type": "code",
   "execution_count": 68,
   "id": "dated-policy",
   "metadata": {},
   "outputs": [
    {
     "data": {
      "text/plain": [
       "True"
      ]
     },
     "execution_count": 68,
     "metadata": {},
     "output_type": "execute_result"
    }
   ],
   "source": [
    "api.batch_insert(db, tb, cols, values, cur)"
   ]
  },
  {
   "cell_type": "code",
   "execution_count": null,
   "id": "earned-cleanup",
   "metadata": {},
   "outputs": [],
   "source": [
    "asset_type_id = api._get_asset_type(asset_type='engine', subtype='ncmapss', db=db)\n",
    "print(asset_type_id)\n",
    "print(type(asset_type_id))"
   ]
  },
  {
   "cell_type": "code",
   "execution_count": 273,
   "id": "buried-choir",
   "metadata": {},
   "outputs": [
    {
     "name": "stdout",
     "output_type": "stream",
     "text": [
      "Empty DataFrame\n",
      "Columns: [id, type, subtype, description]\n",
      "Index: []\n",
      "<class 'pandas.core.frame.DataFrame'>\n"
     ]
    }
   ],
   "source": [
    "asset_type = api._get_asset_type(type_id=3, db=db)\n",
    "print(asset_type)\n",
    "print(type(asset_type))"
   ]
  }
 ],
 "metadata": {
  "kernelspec": {
   "display_name": "Python 3",
   "language": "python",
   "name": "python3"
  },
  "language_info": {
   "codemirror_mode": {
    "name": "ipython",
    "version": 3
   },
   "file_extension": ".py",
   "mimetype": "text/x-python",
   "name": "python",
   "nbconvert_exporter": "python",
   "pygments_lexer": "ipython3",
   "version": "3.7.10"
  }
 },
 "nbformat": 4,
 "nbformat_minor": 5
}
