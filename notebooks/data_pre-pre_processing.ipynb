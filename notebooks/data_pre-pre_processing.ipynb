{
 "cells": [
  {
   "cell_type": "markdown",
   "id": "fe41d3c7-84a3-4351-8000-71c503d95269",
   "metadata": {},
   "source": [
    "# PREPROCESSING FILE\n",
    "- loads the datasets you choose,\n",
    "- creates a dataframe\n",
    "- resamples\n",
    "- saves\n",
    "#### Do this here, then use another notebook for individual tasks\n",
    "### imports"
   ]
  },
  {
   "cell_type": "code",
   "execution_count": 1,
   "id": "134da01b-731f-413a-9a47-257df1cbded2",
   "metadata": {},
   "outputs": [],
   "source": [
    "import os\n",
    "import pickle\n",
    "import h5py\n",
    "import time\n",
    "import matplotlib\n",
    "import numpy as np\n",
    "import pandas as pd\n",
    "import seaborn as sns\n",
    "from pandas import DataFrame\n",
    "import matplotlib.pyplot as plt\n",
    "from matplotlib import gridspec\n",
    "import scipy.stats as stats\n",
    "import math\n",
    "import random\n",
    "import gc\n",
    "import multiprocessing as mp\n",
    "import tensorflow as tf\n",
    "%matplotlib inline"
   ]
  },
  {
   "cell_type": "markdown",
   "id": "45cf88d9-a9ff-4f94-8819-d5a804f22e56",
   "metadata": {},
   "source": [
    "# load all data for DS08\n",
    "- two files, dev and test set"
   ]
  },
  {
   "cell_type": "code",
   "execution_count": 2,
   "id": "7b75b1fb-eded-4f7a-b55a-55276cae2201",
   "metadata": {},
   "outputs": [
    {
     "name": "stdout",
     "output_type": "stream",
     "text": [
      "N-CMAPSS_DS08a-009.h5\n",
      "dev\n",
      "<N-CMAPSS_DS08a-009.h5> : [1. 2. 3. 4. 5. 6. 7. 8. 9.]\n",
      "test\n",
      "<N-CMAPSS_DS08a-009.h5> : [10. 11. 12. 13. 14. 15.]\n",
      "N-CMAPSS_DS08c-008.h5\n",
      "dev\n",
      "<N-CMAPSS_DS08c-008.h5> : [1. 2. 3. 4. 5. 6.]\n",
      "test\n",
      "<N-CMAPSS_DS08c-008.h5> : [ 7.  8.  9. 10.]\n"
     ]
    }
   ],
   "source": [
    "h5_dir = 'data_h5/'\n",
    "fnames = ['N-CMAPSS_DS08a-009.h5', 'N-CMAPSS_DS08c-008.h5']\n",
    "sets = ['dev', 'test']\n",
    "\n",
    "df = pd.DataFrame()\n",
    "ui = 0\n",
    "\n",
    "for filename in fnames:\n",
    "    print(filename)\n",
    "    for _set in sets:\n",
    "        print(_set)\n",
    "        with h5py.File(h5_dir+filename, 'r') as hdf:\n",
    "            a_data = np.array(hdf.get(f\"A_{_set}\"))\n",
    "            w_data = np.array(hdf.get(f\"W_{_set}\"))\n",
    "            x_data = np.array(hdf.get(f\"X_s_{_set}\"))\n",
    "            xv_data = np.array(hdf.get(f\"X_v_{_set}\"))\n",
    "            t_data = np.array(hdf.get(f\"T_{_set}\"))\n",
    "            y_data = np.array(hdf.get(f\"Y_{_set}\"))\n",
    "\n",
    "            a_labels = [l.decode('utf-8') for l in list(np.array(hdf.get('A_var')))]\n",
    "            w_labels = [l.decode('utf-8') for l in list(np.array(hdf.get('W_var')))]\n",
    "            x_labels = [l.decode('utf-8') for l in list(np.array(hdf.get('X_s_var')))]\n",
    "            xv_labels = [l.decode('utf-8') for l in list(np.array(hdf.get('X_v_var')))]\n",
    "            t_labels = [l.decode('utf-8') for l in list(np.array(hdf.get('T_var')))]\n",
    "            \n",
    "        df_a = DataFrame(data=a_data, columns=a_labels)\n",
    "        df_a['ui'] = -1\n",
    "        df_a['dataset'] =  filename.split('_')[1].split('.')[0]\n",
    "        df_w = DataFrame(data=w_data, columns=w_labels)\n",
    "        df_x = DataFrame(data=x_data, columns=x_labels)\n",
    "        df_xv = DataFrame(data=xv_data, columns=xv_labels)\n",
    "        df_t = DataFrame(data=t_data, columns=t_labels)\n",
    "        df_y = DataFrame(data=y_data, columns=['y'])\n",
    "        print(f\"<{filename}> : {pd.unique(df_a.unit)}\")\n",
    "        for n in list(pd.unique(df_a.unit)):\n",
    "            df_a.loc[df_a['unit'] == n, 'ui'] = ui\n",
    "            ui = ui + 1\n",
    "\n",
    "        df_temp = pd.concat([df_a, df_y, df_w, df_x, df_xv, df_t], axis=1)\n",
    "        #print(df_temp.head())\n",
    "        if(len(df)) == 0:\n",
    "            df = df_temp\n",
    "        else:\n",
    "            df = pd.concat([df, df_temp], axis=0)      \n",
    "        \n",
    "        del df_a, df_w, df_x, df_xv, df_t, df_y, a_data, w_data, t_data, x_data, y_data, df_temp\n"
   ]
  },
  {
   "cell_type": "code",
   "execution_count": null,
   "id": "20b408ef-c319-4e28-be30-58446e34f8c2",
   "metadata": {},
   "outputs": [],
   "source": [
    "pd.unique(df.ui)"
   ]
  },
  {
   "cell_type": "code",
   "execution_count": null,
   "id": "a9971af6-d148-4169-98eb-cec9669ba26a",
   "metadata": {},
   "outputs": [],
   "source": [
    "df.head()"
   ]
  },
  {
   "cell_type": "code",
   "execution_count": 2,
   "id": "2430bc9d-03f3-41b8-8aa7-7e45369eb4b6",
   "metadata": {},
   "outputs": [],
   "source": [
    "df = pd.read_csv('data_csv/df08_all_resampled_interp_h0_fc1.csv')\n",
    "\n",
    "df.head()"
   ]
  },
  {
   "cell_type": "code",
   "execution_count": 3,
   "id": "d7bab1b0-5757-4845-857d-4f24b7b13051",
   "metadata": {},
   "outputs": [
    {
     "data": {
      "text/plain": [
       "array([ 0,  2,  8,  9, 14], dtype=int64)"
      ]
     },
     "execution_count": 3,
     "metadata": {},
     "output_type": "execute_result"
    }
   ],
   "source": [
    "pd.unique(df.ui)"
   ]
  },
  {
   "cell_type": "code",
   "execution_count": 12,
   "id": "f580574f-f50b-411c-a5f0-92b59cfef7e5",
   "metadata": {},
   "outputs": [],
   "source": [
    "with open(csv_dir + 'v_labels.txt', \"w\") as f:\n",
    "    for l in xv_labels:\n",
    "        f.write(f\"{l}\\n\")"
   ]
  },
  {
   "cell_type": "markdown",
   "id": "535462df-548f-418c-b326-df3ae1982e42",
   "metadata": {},
   "source": [
    "## Create the augmented auxiliary data by aggregating over units"
   ]
  },
  {
   "cell_type": "code",
   "execution_count": 3,
   "id": "a3bc2f3b-d6c4-402a-a52c-5ebe6cde0a08",
   "metadata": {},
   "outputs": [
    {
     "data": {
      "text/html": [
       "<div>\n",
       "<style scoped>\n",
       "    .dataframe tbody tr th:only-of-type {\n",
       "        vertical-align: middle;\n",
       "    }\n",
       "\n",
       "    .dataframe tbody tr th {\n",
       "        vertical-align: top;\n",
       "    }\n",
       "\n",
       "    .dataframe thead th {\n",
       "        text-align: right;\n",
       "    }\n",
       "</style>\n",
       "<table border=\"1\" class=\"dataframe\">\n",
       "  <thead>\n",
       "    <tr style=\"text-align: right;\">\n",
       "      <th></th>\n",
       "      <th>ui</th>\n",
       "      <th>Fc</th>\n",
       "      <th>unit</th>\n",
       "      <th>y</th>\n",
       "      <th>dataset</th>\n",
       "    </tr>\n",
       "  </thead>\n",
       "  <tbody>\n",
       "    <tr>\n",
       "      <th>0</th>\n",
       "      <td>0</td>\n",
       "      <td>1.0</td>\n",
       "      <td>1.0</td>\n",
       "      <td>71</td>\n",
       "      <td>DS08a-009</td>\n",
       "    </tr>\n",
       "    <tr>\n",
       "      <th>1</th>\n",
       "      <td>1</td>\n",
       "      <td>3.0</td>\n",
       "      <td>2.0</td>\n",
       "      <td>50</td>\n",
       "      <td>DS08a-009</td>\n",
       "    </tr>\n",
       "    <tr>\n",
       "      <th>2</th>\n",
       "      <td>2</td>\n",
       "      <td>1.0</td>\n",
       "      <td>3.0</td>\n",
       "      <td>74</td>\n",
       "      <td>DS08a-009</td>\n",
       "    </tr>\n",
       "    <tr>\n",
       "      <th>3</th>\n",
       "      <td>3</td>\n",
       "      <td>2.0</td>\n",
       "      <td>4.0</td>\n",
       "      <td>70</td>\n",
       "      <td>DS08a-009</td>\n",
       "    </tr>\n",
       "    <tr>\n",
       "      <th>4</th>\n",
       "      <td>4</td>\n",
       "      <td>2.0</td>\n",
       "      <td>5.0</td>\n",
       "      <td>55</td>\n",
       "      <td>DS08a-009</td>\n",
       "    </tr>\n",
       "  </tbody>\n",
       "</table>\n",
       "</div>"
      ],
      "text/plain": [
       "   ui   Fc  unit   y    dataset\n",
       "0   0  1.0   1.0  71  DS08a-009\n",
       "1   1  3.0   2.0  50  DS08a-009\n",
       "2   2  1.0   3.0  74  DS08a-009\n",
       "3   3  2.0   4.0  70  DS08a-009\n",
       "4   4  2.0   5.0  55  DS08a-009"
      ]
     },
     "execution_count": 3,
     "metadata": {},
     "output_type": "execute_result"
    }
   ],
   "source": [
    "df_max = df[['ui', 'Fc', 'unit', 'y', 'dataset']].groupby('ui').agg('max')\n",
    "df_max.reset_index(inplace=True)\n",
    "df_max.head()"
   ]
  },
  {
   "cell_type": "markdown",
   "id": "66c3ac4d-8853-4431-a96e-3ce5ac5a7618",
   "metadata": {},
   "source": [
    "### get the labels"
   ]
  },
  {
   "cell_type": "code",
   "execution_count": 8,
   "id": "899bf8a1-00cb-4603-a6b3-5d3c3ba6dc15",
   "metadata": {},
   "outputs": [
    {
     "name": "stdout",
     "output_type": "stream",
     "text": [
      "['alt', 'Mach', 'TRA', 'T2', 'T24', 'T30', 'T48', 'T50', 'P15', 'P2', 'P21', 'P24', 'Ps30', 'P40', 'P50', 'Nf', 'Nc', 'Wf']\n",
      "['alt', 'Mach', 'TRA', 'T2', 'T24', 'T30', 'T48', 'T50', 'P15', 'P2', 'P21', 'P24', 'Ps30', 'P40', 'P50', 'Nf', 'Nc', 'Wf']\n"
     ]
    }
   ],
   "source": [
    "y_labels = t_labels\n",
    "t_labels = []\n",
    "t_labels.append(w_labels)\n",
    "t_labels.append(x_labels)\n",
    "t_labels = [l for labels in t_labels for l in labels]\n",
    "print(y_labels)\n",
    "print(t_labels)"
   ]
  },
  {
   "cell_type": "markdown",
   "id": "64c473e8-241a-4cd0-9acb-5d4e1b2e06ef",
   "metadata": {},
   "source": [
    "## SAVE the two datasets"
   ]
  },
  {
   "cell_type": "code",
   "execution_count": 9,
   "id": "e1531589-6e08-4851-8784-7bee10f4c349",
   "metadata": {},
   "outputs": [],
   "source": [
    "csv_dir = 'data_csv/'\n",
    "# df.to_csv(csv_dir+'df08_all.csv')\n",
    "# df_max.to_csv(csv_dir+'df08_aux.csv')\n",
    "\n",
    "with open(csv_dir+'y_labels.txt', \"w\") as f:\n",
    "    for l in y_labels:\n",
    "        f.write(f\"{l}\\n\")\n",
    "\n",
    "with open(csv_dir+'t_labels.txt', \"w\") as f:\n",
    "    for l in t_labels:\n",
    "        f.write(f\"{l}\\n\")"
   ]
  },
  {
   "cell_type": "markdown",
   "id": "23ec2f0b-4ef1-402d-8176-5d5f97561bee",
   "metadata": {},
   "source": [
    "# DO ONCE, then proceed below\n",
    "## LOAD the dataset and resample it, then SAVE it\n",
    "- for some reason I could not stop getting duplicate index errors when trying to resample before saving and loading"
   ]
  },
  {
   "cell_type": "code",
   "execution_count": 6,
   "id": "c425440a-aa71-4d85-b374-6def5ad5e54f",
   "metadata": {},
   "outputs": [
    {
     "data": {
      "text/html": [
       "<div>\n",
       "<style scoped>\n",
       "    .dataframe tbody tr th:only-of-type {\n",
       "        vertical-align: middle;\n",
       "    }\n",
       "\n",
       "    .dataframe tbody tr th {\n",
       "        vertical-align: top;\n",
       "    }\n",
       "\n",
       "    .dataframe thead th {\n",
       "        text-align: right;\n",
       "    }\n",
       "</style>\n",
       "<table border=\"1\" class=\"dataframe\">\n",
       "  <thead>\n",
       "    <tr style=\"text-align: right;\">\n",
       "      <th></th>\n",
       "      <th>unit</th>\n",
       "      <th>cycle</th>\n",
       "      <th>Fc</th>\n",
       "      <th>hs</th>\n",
       "      <th>ui</th>\n",
       "      <th>dataset</th>\n",
       "      <th>y</th>\n",
       "      <th>alt</th>\n",
       "      <th>Mach</th>\n",
       "      <th>TRA</th>\n",
       "      <th>...</th>\n",
       "      <th>fan_eff_mod</th>\n",
       "      <th>fan_flow_mod</th>\n",
       "      <th>LPC_eff_mod</th>\n",
       "      <th>LPC_flow_mod</th>\n",
       "      <th>HPC_eff_mod</th>\n",
       "      <th>HPC_flow_mod</th>\n",
       "      <th>HPT_eff_mod</th>\n",
       "      <th>HPT_flow_mod</th>\n",
       "      <th>LPT_eff_mod</th>\n",
       "      <th>LPT_flow_mod</th>\n",
       "    </tr>\n",
       "  </thead>\n",
       "  <tbody>\n",
       "    <tr>\n",
       "      <th>0 days 00:00:00</th>\n",
       "      <td>1.0</td>\n",
       "      <td>1.0</td>\n",
       "      <td>1.0</td>\n",
       "      <td>1.0</td>\n",
       "      <td>0</td>\n",
       "      <td>DS08a-009</td>\n",
       "      <td>71</td>\n",
       "      <td>3003.0</td>\n",
       "      <td>0.392490</td>\n",
       "      <td>84.286507</td>\n",
       "      <td>...</td>\n",
       "      <td>-0.000873</td>\n",
       "      <td>-0.000057</td>\n",
       "      <td>-0.00081</td>\n",
       "      <td>-0.000665</td>\n",
       "      <td>0.000142</td>\n",
       "      <td>-0.000928</td>\n",
       "      <td>-0.000612</td>\n",
       "      <td>-0.000411</td>\n",
       "      <td>-0.001029</td>\n",
       "      <td>-0.000784</td>\n",
       "    </tr>\n",
       "    <tr>\n",
       "      <th>0 days 00:00:10</th>\n",
       "      <td>1.0</td>\n",
       "      <td>1.0</td>\n",
       "      <td>1.0</td>\n",
       "      <td>1.0</td>\n",
       "      <td>0</td>\n",
       "      <td>DS08a-009</td>\n",
       "      <td>71</td>\n",
       "      <td>3067.0</td>\n",
       "      <td>0.398034</td>\n",
       "      <td>84.286507</td>\n",
       "      <td>...</td>\n",
       "      <td>-0.000873</td>\n",
       "      <td>-0.000057</td>\n",
       "      <td>-0.00081</td>\n",
       "      <td>-0.000665</td>\n",
       "      <td>0.000142</td>\n",
       "      <td>-0.000928</td>\n",
       "      <td>-0.000612</td>\n",
       "      <td>-0.000411</td>\n",
       "      <td>-0.001029</td>\n",
       "      <td>-0.000784</td>\n",
       "    </tr>\n",
       "    <tr>\n",
       "      <th>0 days 00:00:20</th>\n",
       "      <td>1.0</td>\n",
       "      <td>1.0</td>\n",
       "      <td>1.0</td>\n",
       "      <td>1.0</td>\n",
       "      <td>0</td>\n",
       "      <td>DS08a-009</td>\n",
       "      <td>71</td>\n",
       "      <td>3155.0</td>\n",
       "      <td>0.401877</td>\n",
       "      <td>84.286507</td>\n",
       "      <td>...</td>\n",
       "      <td>-0.000873</td>\n",
       "      <td>-0.000057</td>\n",
       "      <td>-0.00081</td>\n",
       "      <td>-0.000665</td>\n",
       "      <td>0.000142</td>\n",
       "      <td>-0.000928</td>\n",
       "      <td>-0.000612</td>\n",
       "      <td>-0.000411</td>\n",
       "      <td>-0.001029</td>\n",
       "      <td>-0.000784</td>\n",
       "    </tr>\n",
       "    <tr>\n",
       "      <th>0 days 00:00:30</th>\n",
       "      <td>1.0</td>\n",
       "      <td>1.0</td>\n",
       "      <td>1.0</td>\n",
       "      <td>1.0</td>\n",
       "      <td>0</td>\n",
       "      <td>DS08a-009</td>\n",
       "      <td>71</td>\n",
       "      <td>3258.0</td>\n",
       "      <td>0.403830</td>\n",
       "      <td>84.286507</td>\n",
       "      <td>...</td>\n",
       "      <td>-0.000873</td>\n",
       "      <td>-0.000057</td>\n",
       "      <td>-0.00081</td>\n",
       "      <td>-0.000665</td>\n",
       "      <td>0.000142</td>\n",
       "      <td>-0.000928</td>\n",
       "      <td>-0.000612</td>\n",
       "      <td>-0.000411</td>\n",
       "      <td>-0.001029</td>\n",
       "      <td>-0.000784</td>\n",
       "    </tr>\n",
       "    <tr>\n",
       "      <th>0 days 00:00:40</th>\n",
       "      <td>1.0</td>\n",
       "      <td>1.0</td>\n",
       "      <td>1.0</td>\n",
       "      <td>1.0</td>\n",
       "      <td>0</td>\n",
       "      <td>DS08a-009</td>\n",
       "      <td>71</td>\n",
       "      <td>3366.0</td>\n",
       "      <td>0.406350</td>\n",
       "      <td>84.286507</td>\n",
       "      <td>...</td>\n",
       "      <td>-0.000873</td>\n",
       "      <td>-0.000057</td>\n",
       "      <td>-0.00081</td>\n",
       "      <td>-0.000665</td>\n",
       "      <td>0.000142</td>\n",
       "      <td>-0.000928</td>\n",
       "      <td>-0.000612</td>\n",
       "      <td>-0.000411</td>\n",
       "      <td>-0.001029</td>\n",
       "      <td>-0.000784</td>\n",
       "    </tr>\n",
       "  </tbody>\n",
       "</table>\n",
       "<p>5 rows × 49 columns</p>\n",
       "</div>"
      ],
      "text/plain": [
       "                 unit  cycle   Fc   hs  ui    dataset   y     alt      Mach  \\\n",
       "0 days 00:00:00   1.0    1.0  1.0  1.0   0  DS08a-009  71  3003.0  0.392490   \n",
       "0 days 00:00:10   1.0    1.0  1.0  1.0   0  DS08a-009  71  3067.0  0.398034   \n",
       "0 days 00:00:20   1.0    1.0  1.0  1.0   0  DS08a-009  71  3155.0  0.401877   \n",
       "0 days 00:00:30   1.0    1.0  1.0  1.0   0  DS08a-009  71  3258.0  0.403830   \n",
       "0 days 00:00:40   1.0    1.0  1.0  1.0   0  DS08a-009  71  3366.0  0.406350   \n",
       "\n",
       "                       TRA  ...  fan_eff_mod  fan_flow_mod  LPC_eff_mod  \\\n",
       "0 days 00:00:00  84.286507  ...    -0.000873     -0.000057     -0.00081   \n",
       "0 days 00:00:10  84.286507  ...    -0.000873     -0.000057     -0.00081   \n",
       "0 days 00:00:20  84.286507  ...    -0.000873     -0.000057     -0.00081   \n",
       "0 days 00:00:30  84.286507  ...    -0.000873     -0.000057     -0.00081   \n",
       "0 days 00:00:40  84.286507  ...    -0.000873     -0.000057     -0.00081   \n",
       "\n",
       "                 LPC_flow_mod  HPC_eff_mod  HPC_flow_mod  HPT_eff_mod  \\\n",
       "0 days 00:00:00     -0.000665     0.000142     -0.000928    -0.000612   \n",
       "0 days 00:00:10     -0.000665     0.000142     -0.000928    -0.000612   \n",
       "0 days 00:00:20     -0.000665     0.000142     -0.000928    -0.000612   \n",
       "0 days 00:00:30     -0.000665     0.000142     -0.000928    -0.000612   \n",
       "0 days 00:00:40     -0.000665     0.000142     -0.000928    -0.000612   \n",
       "\n",
       "                 HPT_flow_mod  LPT_eff_mod  LPT_flow_mod  \n",
       "0 days 00:00:00     -0.000411    -0.001029     -0.000784  \n",
       "0 days 00:00:10     -0.000411    -0.001029     -0.000784  \n",
       "0 days 00:00:20     -0.000411    -0.001029     -0.000784  \n",
       "0 days 00:00:30     -0.000411    -0.001029     -0.000784  \n",
       "0 days 00:00:40     -0.000411    -0.001029     -0.000784  \n",
       "\n",
       "[5 rows x 49 columns]"
      ]
     },
     "execution_count": 6,
     "metadata": {},
     "output_type": "execute_result"
    }
   ],
   "source": [
    "del df\n",
    "df = pd.read_csv(csv_dir+'df08_all.csv')\n",
    "df.drop(columns=[df.columns[0]], inplace=True)\n",
    "df.index = pd.to_timedelta(df.index, unit='s')\n",
    "df = df.resample('10S').interpolate(method='time')\n",
    "df.head()"
   ]
  },
  {
   "cell_type": "code",
   "execution_count": 7,
   "id": "a4dbbc7d-893d-4442-a9c6-e4a2eb0a3607",
   "metadata": {},
   "outputs": [],
   "source": [
    "df.to_csv(csv_dir+'df08_all.csv')"
   ]
  },
  {
   "cell_type": "code",
   "execution_count": null,
   "id": "17a7e978-c9de-4845-9012-e79a2c9ca16b",
   "metadata": {},
   "outputs": [],
   "source": []
  },
  {
   "cell_type": "code",
   "execution_count": null,
   "id": "cfe82eb3-3d4c-4bdc-a167-8b4408928d46",
   "metadata": {},
   "outputs": [],
   "source": []
  },
  {
   "cell_type": "code",
   "execution_count": null,
   "id": "e31d86b5-220c-4278-913d-4046bf97288d",
   "metadata": {},
   "outputs": [],
   "source": []
  },
  {
   "cell_type": "code",
   "execution_count": null,
   "id": "bd61c01c-6307-4646-b839-b24ece88e4e5",
   "metadata": {},
   "outputs": [],
   "source": []
  },
  {
   "cell_type": "code",
   "execution_count": null,
   "id": "8efce6c8-d4ef-48d4-8203-64a4497518ab",
   "metadata": {},
   "outputs": [],
   "source": []
  },
  {
   "cell_type": "code",
   "execution_count": null,
   "id": "cf5a2516-1639-468e-97c0-e4bbc7c2300d",
   "metadata": {},
   "outputs": [],
   "source": []
  }
 ],
 "metadata": {
  "kernelspec": {
   "display_name": "Python 3 (ipykernel)",
   "language": "python",
   "name": "python3"
  },
  "language_info": {
   "codemirror_mode": {
    "name": "ipython",
    "version": 3
   },
   "file_extension": ".py",
   "mimetype": "text/x-python",
   "name": "python",
   "nbconvert_exporter": "python",
   "pygments_lexer": "ipython3",
   "version": "3.7.10"
  }
 },
 "nbformat": 4,
 "nbformat_minor": 5
}
