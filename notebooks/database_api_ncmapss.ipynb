{
 "cells": [
  {
   "cell_type": "markdown",
   "id": "polyphonic-tenant",
   "metadata": {},
   "source": [
    "# Database API example for N-CMAPSS dataset\n",
    "- loads the datasets you choose,\n",
    "- creates a dataframe\n",
    "- resamples\n",
    "- saves\n",
    "#### Do this here, then use another notebook for individual tasks\n",
    "### imports (clean this, not all are used...)"
   ]
  },
  {
   "cell_type": "code",
   "execution_count": 1,
   "id": "banner-antibody",
   "metadata": {},
   "outputs": [
    {
     "name": "stdout",
     "output_type": "stream",
     "text": [
      "G:\\Dropbox\\NASA\\phm2021_data_challenge\n"
     ]
    }
   ],
   "source": [
    "import os\n",
    "import sys\n",
    "import h5py\n",
    "import numpy as np\n",
    "import pandas as pd\n",
    "base_dir = os.path.dirname(os.getcwd())\n",
    "print(base_dir)\n",
    "sys.path.insert(1, base_dir)\n",
    "from package.api import DB as api\n",
    "import package.utils as utils\n",
    "\n",
    "%matplotlib inline\n",
    "%load_ext autoreload\n",
    "%autoreload 2"
   ]
  },
  {
   "cell_type": "markdown",
   "id": "varied-alberta",
   "metadata": {},
   "source": [
    "## load all data"
   ]
  },
  {
   "cell_type": "code",
   "execution_count": null,
   "id": "textile-distribution",
   "metadata": {},
   "outputs": [],
   "source": [
    "h5_dir = 'data_h5'\n",
    "fnames = [\n",
    "    'N-CMAPSS_DS01-005.h5',\n",
    "    'N-CMAPSS_DS03-012.h5',\n",
    "    'N-CMAPSS_DS04.h5',\n",
    "    'N-CMAPSS_DS05.h5',\n",
    "    'N-CMAPSS_DS06.h5',\n",
    "    'N-CMAPSS_DS07.h5',\n",
    "    'N-CMAPSS_DS08a-009.h5',\n",
    "    'N-CMAPSS_DS08c-008.h5'\n",
    "]\n",
    "\n",
    "sets = ['dev', 'test']\n",
    "\n",
    "df = pd.DataFrame()\n",
    "asset_id = 1\n",
    "\n",
    "for filename in fnames:\n",
    "    print(filename)\n",
    "    for _set in sets:\n",
    "        print(_set)\n",
    "        with h5py.File(os.path.join(base_dir, h5_dir, filename), 'r') as hdf:\n",
    "            a_data = np.array(hdf.get(f\"A_{_set}\"))\n",
    "            w_data = np.array(hdf.get(f\"W_{_set}\"))\n",
    "            x_data = np.array(hdf.get(f\"X_s_{_set}\"))\n",
    "            v_data = np.array(hdf.get(f\"X_v_{_set}\"))\n",
    "            t_data = np.array(hdf.get(f\"T_{_set}\"))\n",
    "            y_data = np.array(hdf.get(f\"Y_{_set}\"))\n",
    "\n",
    "            a_labels = [l.decode('utf-8') for l in list(np.array(hdf.get('A_var')))]\n",
    "            w_labels = [l.decode('utf-8') for l in list(np.array(hdf.get('W_var')))]\n",
    "            x_labels = [l.decode('utf-8') for l in list(np.array(hdf.get('X_s_var')))]\n",
    "            v_labels = [l.decode('utf-8') for l in list(np.array(hdf.get('X_v_var')))]\n",
    "            t_labels = [l.decode('utf-8') for l in list(np.array(hdf.get('T_var')))]\n",
    "            \n",
    "        df_a = pd.DataFrame(data=a_data, columns=a_labels)\n",
    "        df_a['asset_id'] = -1\n",
    "        df_a['dataset'] = filename.split('_')[1].split('.')[0]\n",
    "        df_w = pd.DataFrame(data=w_data, columns=w_labels)\n",
    "        df_x = pd.DataFrame(data=x_data, columns=x_labels)\n",
    "        df_v = pd.DataFrame(data=v_data, columns=v_labels)\n",
    "        df_t = pd.DataFrame(data=t_data, columns=t_labels)\n",
    "        df_y = pd.DataFrame(data=y_data, columns=['y'])\n",
    "        print(f\"<{filename}> : {pd.unique(df_a.unit)}\")\n",
    "        for n in list(pd.unique(df_a.unit)):\n",
    "            df_a.loc[df_a['unit'] == n, 'asset_id'] = asset_id\n",
    "            asset_id = asset_id + 1\n",
    "\n",
    "        df_temp = pd.concat([df_a, df_y, df_w, df_x, df_v, df_t], axis=1)\n",
    "        #print(df_temp.head())\n",
    "        if(len(df)) == 0:\n",
    "            df = df_temp\n",
    "        else:\n",
    "            df = pd.concat([df, df_temp], axis=0)      \n",
    "        \n",
    "        del df_a, df_w, df_x, df_v, df_t, df_y, a_data, w_data, t_data, x_data, y_data, df_temp\n",
    "    break\n",
    "    ####### NOTICE THE BREAK HERE!! only loading first dataset for testing purposes!!\n",
    "    \n",
    "df = df.round(5)\n",
    "df.asset_id = df.asset_id.astype(int)\n",
    "df.unit = df.unit.astype(int)\n",
    "df.cycle = df.cycle.astype(int)\n",
    "df.hs = df.hs.astype(int)\n",
    "df.Fc = df.Fc.astype(int)"
   ]
  },
  {
   "cell_type": "markdown",
   "id": "breeding-charter",
   "metadata": {},
   "source": [
    "## get the labels"
   ]
  },
  {
   "cell_type": "code",
   "execution_count": null,
   "id": "latin-palace",
   "metadata": {},
   "outputs": [],
   "source": [
    "y_labels = t_labels\n",
    "t_labels = []\n",
    "t_labels.append(w_labels)\n",
    "t_labels.append(x_labels)\n",
    "t_labels = [l for labels in t_labels for l in labels]\n",
    "print(y_labels)\n",
    "print(t_labels)\n",
    "print(v_labels)"
   ]
  },
  {
   "cell_type": "markdown",
   "id": "willing-excuse",
   "metadata": {},
   "source": [
    "## create the augmented auxiliary data by aggregating over units\n",
    "#### NOTE the \"asset_id\" is used to assign unique numbers to the units across all datasets since the unit numbers restart in each dataset\n",
    "#### NOTE this value does not reflect the assets true ID stored in the database if there are already units in the database (but this impacts nothing, just fyi)"
   ]
  },
  {
   "cell_type": "code",
   "execution_count": null,
   "id": "broad-correlation",
   "metadata": {},
   "outputs": [],
   "source": [
    "df_aux = df[['asset_id', 'Fc', 'unit', 'dataset', 'cycle']].groupby('asset_id').agg({'Fc':'max',\n",
    "                                                                         'unit':'max',\n",
    "                                                                         'dataset':'max', \n",
    "                                                                         'cycle':['min','max']})\n",
    "df_aux.reset_index(inplace=True)\n",
    "df_aux.columns=['asset_id', 'group_id', 'unit', 'dataset', 'age', 'eol']\n",
    "df_aux.age = df_aux.age - 1.0\n",
    "df_aux.head()"
   ]
  },
  {
   "cell_type": "markdown",
   "id": "proud-louis",
   "metadata": {},
   "source": [
    "## connect to db"
   ]
  },
  {
   "cell_type": "code",
   "execution_count": null,
   "id": "english-highway",
   "metadata": {},
   "outputs": [],
   "source": [
    "# THESE ARE YOUR CREDENTIALS IN PLAIN TEXT!\n",
    "params = utils.get_aws_secret(\"/secret/ncmapssdb\")\n",
    "#print(params)\n",
    "db, cur =  api.connect(params)\n",
    "db.set_session(autocommit=True)\n",
    "del(params)"
   ]
  },
  {
   "cell_type": "markdown",
   "id": "secure-buyer",
   "metadata": {},
   "source": [
    "## create asset type\n",
    "### NOTE if the asset type already exists, the function simply returns it\n",
    "### BIG NOTE the asset_type and subtype must combine to form the table name of the component, so the table would be engine_ncmapss_tb"
   ]
  },
  {
   "cell_type": "code",
   "execution_count": null,
   "id": "relevant-entry",
   "metadata": {},
   "outputs": [],
   "source": [
    "asset_type = api._create_asset_type(asset_type='engine', subtype='ncmapss', description='turbine engine from N-CMAPSS dataset unit', db=db, cur=cur)\n",
    "print(asset_type)"
   ]
  },
  {
   "cell_type": "markdown",
   "id": "functional-policy",
   "metadata": {},
   "source": [
    "## create assets and components"
   ]
  },
  {
   "cell_type": "markdown",
   "id": "leading-dryer",
   "metadata": {},
   "source": [
    "### make some serial numbers"
   ]
  },
  {
   "cell_type": "code",
   "execution_count": null,
   "id": "peripheral-director",
   "metadata": {},
   "outputs": [],
   "source": [
    "serial_numbers = [utils.generate_serial_number(length=8) for _ in range(len(df_aux))]"
   ]
  },
  {
   "cell_type": "markdown",
   "id": "unique-seeking",
   "metadata": {},
   "source": [
    "#### this could be rewritten as a function for use with df_aux.apply()...."
   ]
  },
  {
   "cell_type": "code",
   "execution_count": null,
   "id": "educated-integration",
   "metadata": {},
   "outputs": [],
   "source": [
    "for i in range(0, len(df_aux)):\n",
    "    asset = api._create_asset(type_id=int(asset_type.id.values[0]),\n",
    "                              common_name='ncmapss unit',\n",
    "                              age=float(df_aux.iloc[i].age),\n",
    "                              eol=float(df_aux.iloc[i].eol),\n",
    "                              rul=float(df_aux.iloc[i].eol - df_aux.iloc[i].age),\n",
    "                              units='cycles',\n",
    "                              serial_number=serial_numbers[i],\n",
    "                              db=db,\n",
    "                              cur=cur)\n",
    "    print(asset)\n",
    "\n",
    "    component = api._create_component(asset=asset, \n",
    "                                      group_id=df_aux.iloc[i].group_id, \n",
    "                                      unit=df_aux.iloc[i].unit, \n",
    "                                      dataset=df_aux.iloc[i].dataset, \n",
    "                                      db=db, \n",
    "                                      cur=cur)\n",
    "    print(component)"
   ]
  },
  {
   "cell_type": "markdown",
   "id": "unique-richardson",
   "metadata": {},
   "source": [
    "### convert index to datetime (the timescaledb extention to postgres requires a \"time\" column)\n",
    "- given there is no time information with the provided data, set the interval at your discretion (ex: 1 second)"
   ]
  },
  {
   "cell_type": "markdown",
   "id": "radio-technical",
   "metadata": {},
   "source": [
    "#### grab last record from db, and start index from that value (assuming the current dataframe does not contain any records already in the database)\n",
    "#### the \"id\" column will only start at 1 once"
   ]
  },
  {
   "cell_type": "code",
   "execution_count": null,
   "id": "forward-season",
   "metadata": {},
   "outputs": [],
   "source": [
    "start_id = api.execute(\"select max(id) from summary_tb;\", db).values[0][0]\n",
    "if type(start_id) == type(None):\n",
    "    start_id = 0"
   ]
  },
  {
   "cell_type": "code",
   "execution_count": null,
   "id": "failing-plaza",
   "metadata": {},
   "outputs": [],
   "source": [
    "df.index = pd.to_datetime(df.index, unit='s', origin='unix')\n",
    "df.index.names=['dt']\n",
    "df.reset_index(inplace=True)\n",
    "df.index += start_id + 1\n",
    "df.index.names=['id']\n",
    "df.reset_index(inplace=True)\n",
    "df.loc[:, 'dt'] = df.loc[:, 'dt'].apply(lambda x: x.strftime('%Y-%m-%d %H:%M:%S'))\n",
    "df.head()"
   ]
  },
  {
   "cell_type": "markdown",
   "id": "recovered-change",
   "metadata": {},
   "source": [
    "- the data tables are broken down slightly different then they are presented in the dataset, see the table schema\n",
    "- summary_tb: id (auto generated), asset_id, cycle, alt, Mach, TRA, T2)\n",
    "- telemetry_tb: dt (timestamp or datetime), all of the telemetry columns\n",
    "- degradation_tb: dt (timestamp or datetime), all of the degradation columns and health state"
   ]
  },
  {
   "cell_type": "markdown",
   "id": "ordered-marketing",
   "metadata": {},
   "source": [
    "## insert summary data first, since telemetry and degradation index off it"
   ]
  },
  {
   "cell_type": "code",
   "execution_count": null,
   "id": "blank-secretariat",
   "metadata": {},
   "outputs": [],
   "source": [
    "summary_cols = api.get_fields('summary_tb', as_list=True, db=db)\n",
    "print(f\"summary_cols: {summary_cols}\")\n",
    "\n",
    "api.batch_insert(df=df[summary_cols], \n",
    "                 tb='summary_tb', \n",
    "                 db=db, \n",
    "                 cur=cur)"
   ]
  },
  {
   "cell_type": "markdown",
   "id": "primary-runner",
   "metadata": {},
   "source": [
    "## Insert telemetry and degradation data"
   ]
  },
  {
   "cell_type": "code",
   "execution_count": null,
   "id": "consolidated-knowing",
   "metadata": {},
   "outputs": [],
   "source": [
    "telemetry_cols = api.get_fields('telemetry_tb', as_list=True, db=db)\n",
    "print(f\"telemetry_cols: {telemetry_cols}\")\n",
    "\n",
    "api.batch_insert(df=df[telemetry_cols], \n",
    "                 tb='telemetry_tb', # num_batches is optional with default value = 10\n",
    "                 db=db, \n",
    "                 cur=cur) # verbose is optional with default value = False"
   ]
  },
  {
   "cell_type": "code",
   "execution_count": null,
   "id": "closed-virginia",
   "metadata": {},
   "outputs": [],
   "source": [
    "degradation_cols = api.get_fields('degradation_tb', as_list=True, db=db)\n",
    "print(f\"degradation_cols: {degradation_cols}\")\n",
    "\n",
    "api.batch_insert(df=df[degradation_cols], \n",
    "                 tb='degradation_tb', \n",
    "                 num_batches=10,\n",
    "                 db=db, \n",
    "                 cur=cur, \n",
    "                 verbose=True)"
   ]
  },
  {
   "cell_type": "markdown",
   "id": "clinical-stuart",
   "metadata": {},
   "source": [
    "# Putting it all together...\n",
    "## TIM HERE TODO: create function in utils that does this for the entire dataset\n",
    "In this notebook, I put a break statement after the first h5 file was processed to limit memory usage during development. The entire dataset as a dataframe uses about 40bg. These steps should be called after each dataset is loaded, or the num_batches parameter should be increased to 50 or 100. "
   ]
  },
  {
   "cell_type": "markdown",
   "id": "nominated-wallet",
   "metadata": {},
   "source": [
    "# TIM HERE TODO: write data extraction api"
   ]
  },
  {
   "cell_type": "code",
   "execution_count": null,
   "id": "atlantic-interface",
   "metadata": {},
   "outputs": [],
   "source": []
  },
  {
   "cell_type": "code",
   "execution_count": null,
   "id": "metropolitan-minority",
   "metadata": {},
   "outputs": [],
   "source": []
  },
  {
   "cell_type": "code",
   "execution_count": null,
   "id": "acquired-miller",
   "metadata": {},
   "outputs": [],
   "source": []
  },
  {
   "cell_type": "code",
   "execution_count": null,
   "id": "aging-implementation",
   "metadata": {},
   "outputs": [],
   "source": []
  },
  {
   "cell_type": "markdown",
   "id": "intimate-administration",
   "metadata": {},
   "source": [
    "## Misc usage"
   ]
  },
  {
   "cell_type": "code",
   "execution_count": null,
   "id": "smaller-performance",
   "metadata": {},
   "outputs": [],
   "source": [
    "api._create_asset_type(asset_type='engine', subtype='ncmapss', description='N-CMAPSS dataset unit', db=db, cur=cur)"
   ]
  },
  {
   "cell_type": "code",
   "execution_count": null,
   "id": "attached-olympus",
   "metadata": {},
   "outputs": [],
   "source": [
    "db_tables = api.get_tables(db)\n",
    "print(db_tables)"
   ]
  },
  {
   "cell_type": "code",
   "execution_count": null,
   "id": "divine-shield",
   "metadata": {},
   "outputs": [],
   "source": [
    "asset_tb_cols = api.get_fields('asset_tb', as_list=True, db=db)\n",
    "asset_tb_cols"
   ]
  },
  {
   "cell_type": "code",
   "execution_count": null,
   "id": "applied-chaos",
   "metadata": {},
   "outputs": [],
   "source": [
    "engine_tb_cols = api.get_fields('engine_tb', as_list=True, db=db)\n",
    "engine_tb_cols"
   ]
  },
  {
   "cell_type": "code",
   "execution_count": null,
   "id": "connected-shield",
   "metadata": {},
   "outputs": [],
   "source": [
    "api._get_asset(serial_number='sd3kg0dk00', db=db)"
   ]
  },
  {
   "cell_type": "code",
   "execution_count": null,
   "id": "proud-generic",
   "metadata": {},
   "outputs": [],
   "source": [
    "api.table_exists(f\"{asset_type.type.values[0]}_{asset_type.subtype.values[0]}_tb\", db)"
   ]
  },
  {
   "cell_type": "code",
   "execution_count": null,
   "id": "becoming-prerequisite",
   "metadata": {},
   "outputs": [],
   "source": [
    "asset_type_id = api._get_asset_type(asset_type='engine', subtype='ncmapss', db=db)\n",
    "print(asset_type_id)\n",
    "print(type(asset_type_id))"
   ]
  },
  {
   "cell_type": "code",
   "execution_count": null,
   "id": "oriental-drink",
   "metadata": {},
   "outputs": [],
   "source": [
    "asset_type = api._get_asset_type(type_id=1, db=db)\n",
    "print(asset_type)\n",
    "print(type(asset_type))"
   ]
  },
  {
   "cell_type": "code",
   "execution_count": null,
   "id": "signed-element",
   "metadata": {},
   "outputs": [],
   "source": []
  },
  {
   "cell_type": "code",
   "execution_count": null,
   "id": "twenty-confusion",
   "metadata": {},
   "outputs": [],
   "source": []
  },
  {
   "cell_type": "code",
   "execution_count": null,
   "id": "black-garage",
   "metadata": {},
   "outputs": [],
   "source": []
  }
 ],
 "metadata": {
  "kernelspec": {
   "display_name": "Python 3",
   "language": "python",
   "name": "python3"
  },
  "language_info": {
   "codemirror_mode": {
    "name": "ipython",
    "version": 3
   },
   "file_extension": ".py",
   "mimetype": "text/x-python",
   "name": "python",
   "nbconvert_exporter": "python",
   "pygments_lexer": "ipython3",
   "version": "3.7.10"
  }
 },
 "nbformat": 4,
 "nbformat_minor": 5
}
