{
 "cells": [
  {
   "cell_type": "markdown",
   "id": "e6beb5e4-ff44-40d0-9be8-755385175fbf",
   "metadata": {},
   "source": [
    "# RUL Prediction with LSTM\n",
    "a. Xs' only\n",
    "b. Xs' and $\\theta$\n",
    "\n",
    "1. Load flight effects model and validate performance\n",
    "2. set up hyperparameter tuning for RUL prediction network (LSTM)\n",
    "3. Evaluate different lookback windows or implement adaptive window"
   ]
  },
  {
   "cell_type": "code",
   "execution_count": 1,
   "id": "14876c9c-eec6-4759-8fb4-aecfc1cc779a",
   "metadata": {},
   "outputs": [
    {
     "name": "stdout",
     "output_type": "stream",
     "text": [
      "/home/macslab/phm2021_data_challenge\n",
      "2.8.0\n",
      "[INFO] GPU?: <True> [PhysicalDevice(name='/physical_device:GPU:0', device_type='GPU')]\n"
     ]
    }
   ],
   "source": [
    "import os\n",
    "import sys\n",
    "import h5py\n",
    "import numpy as np\n",
    "import pandas as pd\n",
    "import matplotlib.pyplot as plt\n",
    "import seaborn as sns\n",
    "import joblib\n",
    "\n",
    "base_dir = os.path.dirname(os.getcwd())\n",
    "print(base_dir)\n",
    "sys.path.insert(1, base_dir)\n",
    "from package.api import DB as api\n",
    "import package.utils as utils\n",
    "import package.tuning as tuning\n",
    "utils.check_gpu()\n",
    "\n",
    "from sklearn.preprocessing import MinMaxScaler\n",
    "from sklearn.model_selection import train_test_split\n",
    "\n",
    "import tensorflow as tf\n",
    "from tensorflow import keras\n",
    "from tensorflow.keras import layers, regularizers, optimizers, metrics\n",
    "#import tensorflow_addons as tfa\n",
    "\n",
    "import keras_tuner as kt\n",
    "\n",
    "from kerastuner_tensorboard_logger import (\n",
    "    TensorBoardLogger,\n",
    "    setup_tb  # Optional\n",
    ")\n",
    "\n",
    "\n",
    "%matplotlib inline\n",
    "%load_ext autoreload\n",
    "%autoreload 2"
   ]
  },
  {
   "cell_type": "markdown",
   "id": "0c7496b1-e239-4917-975d-478d0bcb62c8",
   "metadata": {},
   "source": [
    "## 0. Connect to db and load the data"
   ]
  },
  {
   "cell_type": "code",
   "execution_count": 2,
   "id": "740afafa-dad8-4045-8e9c-8d2a194e1f3e",
   "metadata": {},
   "outputs": [
    {
     "name": "stdout",
     "output_type": "stream",
     "text": [
      "[INFO] connecting to db.\n",
      "[INFO] connected.\n"
     ]
    }
   ],
   "source": [
    "# THESE ARE YOUR CREDENTIALS IN PLAIN TEXT!\n",
    "params = {'datasource.username': 'macslab', # the username of the logged in user\n",
    "            'datasource.password': 'Ch0colate!', \n",
    "            'datasource.database': 'ncmapss_db', # <- NO CHANGE \n",
    "            'datasource.url': 'localhost', # <- or your database installation location\n",
    "            'datasource.port': '5432'} # <- most likely don't change\n",
    "#print(params)\n",
    "db, cur =  api.connect(params)\n",
    "db.set_session(autocommit=True)\n",
    "del(params)"
   ]
  },
  {
   "cell_type": "code",
   "execution_count": 3,
   "id": "90f2d50c-d262-40d7-8af6-2a9d21b29d81",
   "metadata": {},
   "outputs": [
    {
     "data": {
      "text/html": [
       "<div>\n",
       "<style scoped>\n",
       "    .dataframe tbody tr th:only-of-type {\n",
       "        vertical-align: middle;\n",
       "    }\n",
       "\n",
       "    .dataframe tbody tr th {\n",
       "        vertical-align: top;\n",
       "    }\n",
       "\n",
       "    .dataframe thead th {\n",
       "        text-align: right;\n",
       "    }\n",
       "</style>\n",
       "<table border=\"1\" class=\"dataframe\">\n",
       "  <thead>\n",
       "    <tr style=\"text-align: right;\">\n",
       "      <th></th>\n",
       "      <th>id</th>\n",
       "      <th>serial_number</th>\n",
       "      <th>age</th>\n",
       "      <th>eol</th>\n",
       "      <th>rul</th>\n",
       "      <th>group_id</th>\n",
       "      <th>Fc</th>\n",
       "      <th>unit</th>\n",
       "      <th>dataset</th>\n",
       "    </tr>\n",
       "  </thead>\n",
       "  <tbody>\n",
       "    <tr>\n",
       "      <th>0</th>\n",
       "      <td>1</td>\n",
       "      <td>xhJzs6e3</td>\n",
       "      <td>0.0</td>\n",
       "      <td>100.0</td>\n",
       "      <td>100.0</td>\n",
       "      <td>1</td>\n",
       "      <td>1</td>\n",
       "      <td>1</td>\n",
       "      <td>DS01-005</td>\n",
       "    </tr>\n",
       "    <tr>\n",
       "      <th>1</th>\n",
       "      <td>2</td>\n",
       "      <td>a2wH8lJP</td>\n",
       "      <td>0.0</td>\n",
       "      <td>75.0</td>\n",
       "      <td>75.0</td>\n",
       "      <td>1</td>\n",
       "      <td>3</td>\n",
       "      <td>2</td>\n",
       "      <td>DS01-005</td>\n",
       "    </tr>\n",
       "    <tr>\n",
       "      <th>2</th>\n",
       "      <td>3</td>\n",
       "      <td>zwaWwxPl</td>\n",
       "      <td>0.0</td>\n",
       "      <td>100.0</td>\n",
       "      <td>100.0</td>\n",
       "      <td>1</td>\n",
       "      <td>2</td>\n",
       "      <td>3</td>\n",
       "      <td>DS01-005</td>\n",
       "    </tr>\n",
       "    <tr>\n",
       "      <th>3</th>\n",
       "      <td>4</td>\n",
       "      <td>ByMDLFeB</td>\n",
       "      <td>0.0</td>\n",
       "      <td>95.0</td>\n",
       "      <td>95.0</td>\n",
       "      <td>1</td>\n",
       "      <td>1</td>\n",
       "      <td>4</td>\n",
       "      <td>DS01-005</td>\n",
       "    </tr>\n",
       "    <tr>\n",
       "      <th>4</th>\n",
       "      <td>5</td>\n",
       "      <td>rcedq8Jy</td>\n",
       "      <td>0.0</td>\n",
       "      <td>89.0</td>\n",
       "      <td>89.0</td>\n",
       "      <td>1</td>\n",
       "      <td>3</td>\n",
       "      <td>5</td>\n",
       "      <td>DS01-005</td>\n",
       "    </tr>\n",
       "  </tbody>\n",
       "</table>\n",
       "</div>"
      ],
      "text/plain": [
       "   id serial_number  age    eol    rul  group_id  Fc  unit   dataset\n",
       "0   1      xhJzs6e3  0.0  100.0  100.0         1   1     1  DS01-005\n",
       "1   2      a2wH8lJP  0.0   75.0   75.0         1   3     2  DS01-005\n",
       "2   3      zwaWwxPl  0.0  100.0  100.0         1   2     3  DS01-005\n",
       "3   4      ByMDLFeB  0.0   95.0   95.0         1   1     4  DS01-005\n",
       "4   5      rcedq8Jy  0.0   89.0   89.0         1   3     5  DS01-005"
      ]
     },
     "execution_count": 3,
     "metadata": {},
     "output_type": "execute_result"
    }
   ],
   "source": [
    "units = api._get_units(db=db)\n",
    "units.head()"
   ]
  },
  {
   "cell_type": "code",
   "execution_count": null,
   "id": "1d09e1e4-2141-4203-b83c-7f2501961f1f",
   "metadata": {
    "tags": []
   },
   "outputs": [],
   "source": [
    "# import Queue\n",
    "# from threading import Thread\n",
    "\n",
    "# units = api._get_units(db=db)\n",
    "# tables = ['summary_tb', 'telemetry_tb']\n",
    "\n",
    "# def func(units, tables, downsample):\n",
    "#     return str(units) + str(tables) + str(downsample)\n",
    "# def delegate():\n",
    "#     return func('units', ' tables', 20)\n",
    "# units = api._get_units(db=db)\n",
    "# data_frames = []\n",
    "# for i in range(int(len(units)/10)):\n",
    "    \n",
    "    \n",
    "    # df = api._get_data(db=db,\n",
    "    #                    units=units,\n",
    "    #                    tables=tables,\n",
    "    #                    downsample=20).astype(np.float32)\n",
    "    "
   ]
  },
  {
   "cell_type": "code",
   "execution_count": 5,
   "id": "e8d06ec6-cb35-45d3-97de-2c21fd144880",
   "metadata": {
    "tags": []
   },
   "outputs": [],
   "source": [
    "train_df = pd.read_csv('train_df.csv', index_col=0)\n",
    "train_pop = pd.read_csv('train_pop.csv', index_col=0)\n",
    "train_y = pd.read_csv('train_y.csv', index_col=0)"
   ]
  },
  {
   "cell_type": "code",
   "execution_count": 4,
   "id": "4eeffe6e-502b-4807-a910-fc9d0b7ab99b",
   "metadata": {
    "tags": []
   },
   "outputs": [],
   "source": [
    "tables = ['summary_tb', 'telemetry_tb']\n",
    "downsample=20\n",
    "df = api._get_data(db=db,\n",
    "                   units=pd.unique(units.id),\n",
    "                   hs=0,\n",
    "                   tables=tables,\n",
    "                   downsample=downsample).astype(np.float32)\n",
    "utils.add_time_column(units=pd.unique(units.id), df=df)\n",
    "utils.add_rul_column(units=pd.unique(units.id), df=df)"
   ]
  },
  {
   "cell_type": "markdown",
   "id": "bc9a5983-d9fd-488c-9f20-b5a5a774bdb2",
   "metadata": {},
   "source": [
    "## 1. Make Xs_prime and y "
   ]
  },
  {
   "cell_type": "code",
   "execution_count": 6,
   "id": "2b087f16-9248-47a2-8844-001c78df39b8",
   "metadata": {},
   "outputs": [
    {
     "name": "stderr",
     "output_type": "stream",
     "text": [
      "2022-02-14 08:23:48.679124: I tensorflow/core/platform/cpu_feature_guard.cc:151] This TensorFlow binary is optimized with oneAPI Deep Neural Network Library (oneDNN) to use the following CPU instructions in performance-critical operations:  AVX2 FMA\n",
      "To enable them in other operations, rebuild TensorFlow with the appropriate compiler flags.\n",
      "2022-02-14 08:23:48.951359: I tensorflow/core/common_runtime/gpu/gpu_device.cc:1525] Created device /job:localhost/replica:0/task:0/device:GPU:0 with 10147 MB memory:  -> device: 0, name: NVIDIA GeForce RTX 3060, pci bus id: 0000:01:00.0, compute capability: 8.6\n"
     ]
    }
   ],
   "source": [
    "X_cols = ['Mach', 'alt', 'TRA', 'T2', 'time']## disregard comments #, 'Fc'] # will also have Fc_1, Fc_2, Fc_3\n",
    "y_cols = ['Wf', 'Nf', 'Nc', 'T24', 'T30', 'T48', 'T50', 'P15', 'P2', 'P21', 'P24', 'Ps30', 'P40', 'P50']\n",
    "a_cols = ['cycle', 'hs', 'Fc', 'asset_id']\n",
    "\n",
    "model = keras.models.load_model('models/ncmapss/flight_effects.h5')\n",
    "yscaler = joblib.load('models/ncmapss/flight_effects_yscaler.pkl')\n",
    "xscaler = joblib.load('models/ncmapss/flight_effects_xscaler.pkl')\n",
    "\n",
    "# Xs_prime = []\n",
    "# idx = np.random.randint(len(y_cols))\n",
    "# polys = []\n",
    "\n",
    "# df[X_cols] = xscaler.transform(df[X_cols])\n",
    "# pred = model.predict(df[X_cols])\n",
    "\n",
    "# for asset_id in pd.unique(df.asset_id):\n",
    "#     X_full = df[df.asset_id == asset_id][X_cols]\n",
    "#     pred = model.predict(X_full)\n",
    "#     # pred = model.predict(xscaler.transform(X_full))\n",
    "#     Xs_prime.append(pred)\n",
    "    \n",
    "#    y_full = df[df.asset_id == asset_id][y_cols]\n",
    "#    trace = yscaler.transform(y_full)\n",
    "#     res = trace - pred\n",
    "\n",
    "#     x = np.arange(0, len(res[:,0]))\n",
    "#     x = x[0:len(x):10]\n",
    "#     for i in range(0, len(y_cols)):\n",
    "#         y = res[:,i]\n",
    "#         y = y[0:len(y):10]\n",
    "#         reg = np.poly1d(np.polyfit(x, y, 6))\n",
    "#         polys.append(reg)\n",
    "\n",
    "#     fig = plt.figure(figsize=(12,12))\n",
    "#     filtered = np.zeros(res.shape)\n",
    "#     x = np.arange(0, len(res[:,0]))\n",
    "#     for j in range(len(y_cols)):\n",
    "#         y = res[:,j]\n",
    "#         p = polys[j]\n",
    "\n",
    "#         diff = np.zeros((len(y),))\n",
    "#         for i in range(len(y)):\n",
    "#             predp = p(y[i])\n",
    "#             diff[i] = y[i] - predp\n",
    "\n",
    "#         mean = np.mean(diff)\n",
    "#         std = np.std(diff)\n",
    "\n",
    "#         filt = np.zeros((len(y),))\n",
    "#         for i in range(len(res)):\n",
    "#             if np.abs(np.abs(y[i]) - np.abs(p(x[i]))) > np.abs(mean)+3*std:\n",
    "#                 filt[i] = p(x[i])\n",
    "#             else:\n",
    "#                 filt[i] = y[i]\n",
    "\n",
    "#         filtered[:,j] = filt\n",
    "#         utils.plot_trace_samples(fig, y, filt, p, j)\n",
    "#     plt.show()\n",
    "#     Xs_prime.append(pred)"
   ]
  },
  {
   "cell_type": "markdown",
   "id": "29c7fcc9-a6cf-4677-87dd-4e0cffbe52ff",
   "metadata": {},
   "source": [
    "### now we have Xs_prime and y"
   ]
  },
  {
   "cell_type": "code",
   "execution_count": 6,
   "id": "27e6d917-da20-417b-98f8-eefb80e3be38",
   "metadata": {},
   "outputs": [
    {
     "data": {
      "text/html": [
       "<div>\n",
       "<style scoped>\n",
       "    .dataframe tbody tr th:only-of-type {\n",
       "        vertical-align: middle;\n",
       "    }\n",
       "\n",
       "    .dataframe tbody tr th {\n",
       "        vertical-align: top;\n",
       "    }\n",
       "\n",
       "    .dataframe thead th {\n",
       "        text-align: right;\n",
       "    }\n",
       "</style>\n",
       "<table border=\"1\" class=\"dataframe\">\n",
       "  <thead>\n",
       "    <tr style=\"text-align: right;\">\n",
       "      <th></th>\n",
       "      <th>Wf</th>\n",
       "      <th>Nf</th>\n",
       "      <th>Nc</th>\n",
       "      <th>T24</th>\n",
       "      <th>T30</th>\n",
       "      <th>T48</th>\n",
       "      <th>T50</th>\n",
       "      <th>P15</th>\n",
       "      <th>P2</th>\n",
       "      <th>P21</th>\n",
       "      <th>...</th>\n",
       "      <th>Mach</th>\n",
       "      <th>alt</th>\n",
       "      <th>TRA</th>\n",
       "      <th>T2</th>\n",
       "      <th>time</th>\n",
       "      <th>cycle</th>\n",
       "      <th>hs</th>\n",
       "      <th>Fc</th>\n",
       "      <th>asset_id</th>\n",
       "      <th>rul</th>\n",
       "    </tr>\n",
       "  </thead>\n",
       "  <tbody>\n",
       "    <tr>\n",
       "      <th>0</th>\n",
       "      <td>0.818128</td>\n",
       "      <td>0.841762</td>\n",
       "      <td>0.887926</td>\n",
       "      <td>0.903558</td>\n",
       "      <td>0.881721</td>\n",
       "      <td>0.868859</td>\n",
       "      <td>0.888709</td>\n",
       "      <td>0.924820</td>\n",
       "      <td>0.954334</td>\n",
       "      <td>0.924977</td>\n",
       "      <td>...</td>\n",
       "      <td>0.480052</td>\n",
       "      <td>0.004090</td>\n",
       "      <td>0.756065</td>\n",
       "      <td>0.955631</td>\n",
       "      <td>36.000000</td>\n",
       "      <td>37.0</td>\n",
       "      <td>0.0</td>\n",
       "      <td>1.0</td>\n",
       "      <td>1.0</td>\n",
       "      <td>64.0</td>\n",
       "    </tr>\n",
       "    <tr>\n",
       "      <th>1</th>\n",
       "      <td>0.783579</td>\n",
       "      <td>0.814023</td>\n",
       "      <td>0.866464</td>\n",
       "      <td>0.885147</td>\n",
       "      <td>0.859084</td>\n",
       "      <td>0.844705</td>\n",
       "      <td>0.867876</td>\n",
       "      <td>0.908484</td>\n",
       "      <td>0.947527</td>\n",
       "      <td>0.908656</td>\n",
       "      <td>...</td>\n",
       "      <td>0.487148</td>\n",
       "      <td>0.010459</td>\n",
       "      <td>0.721024</td>\n",
       "      <td>0.952158</td>\n",
       "      <td>36.004505</td>\n",
       "      <td>37.0</td>\n",
       "      <td>0.0</td>\n",
       "      <td>1.0</td>\n",
       "      <td>1.0</td>\n",
       "      <td>63.995495</td>\n",
       "    </tr>\n",
       "    <tr>\n",
       "      <th>2</th>\n",
       "      <td>0.777578</td>\n",
       "      <td>0.815973</td>\n",
       "      <td>0.864358</td>\n",
       "      <td>0.879604</td>\n",
       "      <td>0.856746</td>\n",
       "      <td>0.844110</td>\n",
       "      <td>0.865498</td>\n",
       "      <td>0.896730</td>\n",
       "      <td>0.933655</td>\n",
       "      <td>0.896904</td>\n",
       "      <td>...</td>\n",
       "      <td>0.486223</td>\n",
       "      <td>0.018576</td>\n",
       "      <td>0.726415</td>\n",
       "      <td>0.942436</td>\n",
       "      <td>36.009009</td>\n",
       "      <td>37.0</td>\n",
       "      <td>0.0</td>\n",
       "      <td>1.0</td>\n",
       "      <td>1.0</td>\n",
       "      <td>63.990991</td>\n",
       "    </tr>\n",
       "    <tr>\n",
       "      <th>3</th>\n",
       "      <td>0.777463</td>\n",
       "      <td>0.819259</td>\n",
       "      <td>0.865445</td>\n",
       "      <td>0.881605</td>\n",
       "      <td>0.857858</td>\n",
       "      <td>0.845077</td>\n",
       "      <td>0.864297</td>\n",
       "      <td>0.895452</td>\n",
       "      <td>0.931826</td>\n",
       "      <td>0.895701</td>\n",
       "      <td>...</td>\n",
       "      <td>0.498471</td>\n",
       "      <td>0.023665</td>\n",
       "      <td>0.730458</td>\n",
       "      <td>0.943244</td>\n",
       "      <td>36.013514</td>\n",
       "      <td>37.0</td>\n",
       "      <td>0.0</td>\n",
       "      <td>1.0</td>\n",
       "      <td>1.0</td>\n",
       "      <td>63.986486</td>\n",
       "    </tr>\n",
       "    <tr>\n",
       "      <th>4</th>\n",
       "      <td>0.774587</td>\n",
       "      <td>0.819201</td>\n",
       "      <td>0.864389</td>\n",
       "      <td>0.881093</td>\n",
       "      <td>0.856722</td>\n",
       "      <td>0.843864</td>\n",
       "      <td>0.862012</td>\n",
       "      <td>0.892926</td>\n",
       "      <td>0.929568</td>\n",
       "      <td>0.893229</td>\n",
       "      <td>...</td>\n",
       "      <td>0.505742</td>\n",
       "      <td>0.027411</td>\n",
       "      <td>0.730458</td>\n",
       "      <td>0.942958</td>\n",
       "      <td>36.018018</td>\n",
       "      <td>37.0</td>\n",
       "      <td>0.0</td>\n",
       "      <td>1.0</td>\n",
       "      <td>1.0</td>\n",
       "      <td>63.981982</td>\n",
       "    </tr>\n",
       "  </tbody>\n",
       "</table>\n",
       "<p>5 rows × 24 columns</p>\n",
       "</div>"
      ],
      "text/plain": [
       "         Wf        Nf        Nc       T24       T30       T48       T50  \\\n",
       "0  0.818128  0.841762  0.887926  0.903558  0.881721  0.868859  0.888709   \n",
       "1  0.783579  0.814023  0.866464  0.885147  0.859084  0.844705  0.867876   \n",
       "2  0.777578  0.815973  0.864358  0.879604  0.856746  0.844110  0.865498   \n",
       "3  0.777463  0.819259  0.865445  0.881605  0.857858  0.845077  0.864297   \n",
       "4  0.774587  0.819201  0.864389  0.881093  0.856722  0.843864  0.862012   \n",
       "\n",
       "        P15        P2       P21  ...      Mach       alt       TRA        T2  \\\n",
       "0  0.924820  0.954334  0.924977  ...  0.480052  0.004090  0.756065  0.955631   \n",
       "1  0.908484  0.947527  0.908656  ...  0.487148  0.010459  0.721024  0.952158   \n",
       "2  0.896730  0.933655  0.896904  ...  0.486223  0.018576  0.726415  0.942436   \n",
       "3  0.895452  0.931826  0.895701  ...  0.498471  0.023665  0.730458  0.943244   \n",
       "4  0.892926  0.929568  0.893229  ...  0.505742  0.027411  0.730458  0.942958   \n",
       "\n",
       "        time  cycle   hs   Fc  asset_id        rul  \n",
       "0  36.000000   37.0  0.0  1.0       1.0       64.0  \n",
       "1  36.004505   37.0  0.0  1.0       1.0  63.995495  \n",
       "2  36.009009   37.0  0.0  1.0       1.0  63.990991  \n",
       "3  36.013514   37.0  0.0  1.0       1.0  63.986486  \n",
       "4  36.018018   37.0  0.0  1.0       1.0  63.981982  \n",
       "\n",
       "[5 rows x 24 columns]"
      ]
     },
     "execution_count": 6,
     "metadata": {},
     "output_type": "execute_result"
    }
   ],
   "source": [
    "#xsp = np.concatenate(tuple(Xs_prime), axis=0)\n",
    "dfx = pd.DataFrame(data=pred, columns=y_cols)\n",
    "dfx = pd.concat([dfx, df[X_cols], df[a_cols]], axis=1)\n",
    "dfx['rul'] = df['rul'].values\n",
    "dfx.time = dfx.time + (dfx.cycle -1)\n",
    "\n",
    "dfx.head()"
   ]
  },
  {
   "cell_type": "markdown",
   "id": "0d071778-ef11-4406-9496-d4a886b4faae",
   "metadata": {},
   "source": [
    "## 2. split sets and view feature distributions"
   ]
  },
  {
   "cell_type": "code",
   "execution_count": 8,
   "id": "48647cdb-0419-41f3-94d9-2fe2deefb1fc",
   "metadata": {},
   "outputs": [
    {
     "name": "stdout",
     "output_type": "stream",
     "text": [
      "90\n",
      "72\n",
      "9\n",
      "9\n",
      "train, val, test set counts: 72, 9, 9\n",
      "90 90\n",
      "train units: [33, 71, 13, 10, 68, 57, 74, 14, 84, 75, 24, 21, 73, 48, 35, 12, 9, 70, 69, 82, 43, 55, 22, 54, 4, 58, 88, 26, 45, 1, 86, 50, 63, 44, 72, 19, 77, 31, 90, 60, 3, 39, 8, 46, 15, 36, 51, 25, 18, 65, 5, 40, 81, 89, 61, 20, 17, 80, 53, 34, 41, 62, 78, 37, 64, 76, 59, 49, 28, 87, 16, 85]\n",
      "val units: [7, 66, 6, 29, 27, 11, 38, 47, 32]\n",
      "test units: [2, 56, 30, 52, 79, 67, 83, 23, 42]\n"
     ]
    }
   ],
   "source": [
    "train_df, train_y, val_df, val_y, test_df, test_y = utils.train_test_split(df=dfx, units=list(pd.unique(units.id)), y_labels=['rul'], t_labels=a_cols + y_cols + X_cols, train_pct = .80, val_pct=.10, test_pct=.10, verbose=True)"
   ]
  },
  {
   "cell_type": "code",
   "execution_count": 11,
   "id": "cdb41ab2-65b7-4cf2-a377-79348bd042a4",
   "metadata": {},
   "outputs": [
    {
     "data": {
      "text/html": [
       "<div>\n",
       "<style scoped>\n",
       "    .dataframe tbody tr th:only-of-type {\n",
       "        vertical-align: middle;\n",
       "    }\n",
       "\n",
       "    .dataframe tbody tr th {\n",
       "        vertical-align: top;\n",
       "    }\n",
       "\n",
       "    .dataframe thead th {\n",
       "        text-align: right;\n",
       "    }\n",
       "</style>\n",
       "<table border=\"1\" class=\"dataframe\">\n",
       "  <thead>\n",
       "    <tr style=\"text-align: right;\">\n",
       "      <th></th>\n",
       "      <th>rul</th>\n",
       "    </tr>\n",
       "  </thead>\n",
       "  <tbody>\n",
       "    <tr>\n",
       "      <th>0</th>\n",
       "      <td>64.000000</td>\n",
       "    </tr>\n",
       "    <tr>\n",
       "      <th>1</th>\n",
       "      <td>63.995495</td>\n",
       "    </tr>\n",
       "    <tr>\n",
       "      <th>2</th>\n",
       "      <td>63.990990</td>\n",
       "    </tr>\n",
       "    <tr>\n",
       "      <th>3</th>\n",
       "      <td>63.986488</td>\n",
       "    </tr>\n",
       "    <tr>\n",
       "      <th>4</th>\n",
       "      <td>63.981983</td>\n",
       "    </tr>\n",
       "  </tbody>\n",
       "</table>\n",
       "</div>"
      ],
      "text/plain": [
       "         rul\n",
       "0  64.000000\n",
       "1  63.995495\n",
       "2  63.990990\n",
       "3  63.986488\n",
       "4  63.981983"
      ]
     },
     "execution_count": 11,
     "metadata": {},
     "output_type": "execute_result"
    }
   ],
   "source": [
    "train_y = pd.DataFrame(data=train_y, columns=['rul'])\n",
    "train_y.head()"
   ]
  },
  {
   "cell_type": "code",
   "execution_count": 10,
   "id": "ad1681d9-87fb-42cd-acb1-2acead2553db",
   "metadata": {},
   "outputs": [],
   "source": [
    "train_pop = pd.concat([train_df.pop(x) for x in ['asset_id', 'cycle', 'hs', 'Fc']], axis=1)\n",
    "val_pop = pd.concat([val_df.pop(x) for x in ['asset_id', 'cycle', 'hs', 'Fc']], axis=1)\n",
    "test_pop = pd.concat([test_df.pop(x) for x in ['asset_id', 'cycle', 'hs', 'Fc']], axis=1)"
   ]
  },
  {
   "cell_type": "code",
   "execution_count": 12,
   "id": "d3ab13bd-78d6-4064-872d-412d66e8abdb",
   "metadata": {},
   "outputs": [],
   "source": [
    "train_df.to_csv('train_df.csv')\n",
    "train_pop.to_csv('train_pop.csv')\n",
    "train_y.to_csv('train_y.csv')"
   ]
  },
  {
   "cell_type": "code",
   "execution_count": null,
   "id": "d08d7d27-9853-4cf9-9808-acf9a5ff574a",
   "metadata": {},
   "outputs": [],
   "source": [
    "utils.plot_feature_distributions(df=train_df, feature_range=(0,1), figsize=(12,4))\n",
    "utils.plot_feature_distributions(df=val_df, feature_range=(0,1), figsize=(12,4))\n",
    "utils.plot_feature_distributions(df=test_df, feature_range=(0,1), figsize=(12,4))"
   ]
  },
  {
   "cell_type": "markdown",
   "id": "2606b296-b6d4-47eb-a4e0-3edd4cf70d50",
   "metadata": {},
   "source": [
    "### plot feature importances"
   ]
  },
  {
   "cell_type": "code",
   "execution_count": null,
   "id": "0b0ec7bf-78fe-42b4-92cd-06cb23ca0ec5",
   "metadata": {},
   "outputs": [],
   "source": [
    "from xgboost import XGBRegressor\n",
    "importance_model = XGBRegressor()\n",
    "importance_model.fit(train_df.values, train_y)\n",
    "\n",
    "scoring = ['explained_variance',\n",
    "           'max_error']#,\n",
    "           #'neg_mean_absolute_error',\n",
    "           #'neg_root_mean_squared_error',\n",
    "           #'r2']\n",
    "\n",
    "utils.plot_feature_importances(model=importance_model,\n",
    "                               features=train_df.values,\n",
    "                               feature_labels=y_cols + X_cols,\n",
    "                               target=train_y,\n",
    "                               target_label='rul',\n",
    "                               scoring=scoring)\n",
    "\n",
    "utils.plot_feature_importance(features=train_df.values,\n",
    "                              feature_labels=y_cols + X_cols,\n",
    "                              target=train_y,\n",
    "                              target_label='rul',\n",
    "                              figsize=(9,4))"
   ]
  },
  {
   "cell_type": "code",
   "execution_count": 9,
   "id": "266bb301-70b1-446b-915b-8e5653202ea2",
   "metadata": {},
   "outputs": [
    {
     "data": {
      "text/plain": [
       "['Wf',\n",
       " 'Nf',\n",
       " 'Nc',\n",
       " 'T24',\n",
       " 'T30',\n",
       " 'T48',\n",
       " 'T50',\n",
       " 'P15',\n",
       " 'P2',\n",
       " 'P21',\n",
       " 'P24',\n",
       " 'Ps30',\n",
       " 'P40',\n",
       " 'P50',\n",
       " 'Mach',\n",
       " 'alt',\n",
       " 'TRA',\n",
       " 'T2',\n",
       " 'time']"
      ]
     },
     "execution_count": 9,
     "metadata": {},
     "output_type": "execute_result"
    }
   ],
   "source": [
    "important_features = list(train_df.columns) #['Wf','Nc', 'T24', 'T48', 'T50', 'P2', 'Ps30', 'P40']\n",
    "important_features"
   ]
  },
  {
   "cell_type": "markdown",
   "id": "2a5674cb-32ff-413f-85eb-801814fd8ecc",
   "metadata": {},
   "source": [
    "## 2. temporalize the data"
   ]
  },
  {
   "cell_type": "code",
   "execution_count": 10,
   "id": "cdcabb29-d99f-46cf-b89b-7dd8b035cc54",
   "metadata": {},
   "outputs": [
    {
     "ename": "KeyboardInterrupt",
     "evalue": "",
     "output_type": "error",
     "traceback": [
      "\u001b[0;31m---------------------------------------------------------------------------\u001b[0m",
      "\u001b[0;31mKeyboardInterrupt\u001b[0m                         Traceback (most recent call last)",
      "\u001b[0;32m/tmp/ipykernel_3790/1041882232.py\u001b[0m in \u001b[0;36m<module>\u001b[0;34m\u001b[0m\n\u001b[1;32m      4\u001b[0m \u001b[0mn_features\u001b[0m \u001b[0;34m=\u001b[0m \u001b[0mtrain_df\u001b[0m\u001b[0;34m[\u001b[0m\u001b[0mimportant_features\u001b[0m\u001b[0;34m]\u001b[0m\u001b[0;34m.\u001b[0m\u001b[0mshape\u001b[0m\u001b[0;34m[\u001b[0m\u001b[0;36m1\u001b[0m\u001b[0;34m]\u001b[0m\u001b[0;34m\u001b[0m\u001b[0;34m\u001b[0m\u001b[0m\n\u001b[1;32m      5\u001b[0m \u001b[0;34m\u001b[0m\u001b[0m\n\u001b[0;32m----> 6\u001b[0;31m \u001b[0mX_train\u001b[0m\u001b[0;34m,\u001b[0m \u001b[0my_train\u001b[0m \u001b[0;34m=\u001b[0m \u001b[0mutils\u001b[0m\u001b[0;34m.\u001b[0m\u001b[0mtemporalize_data\u001b[0m\u001b[0;34m(\u001b[0m\u001b[0mtrain_df\u001b[0m\u001b[0;34m[\u001b[0m\u001b[0mimportant_features\u001b[0m\u001b[0;34m]\u001b[0m\u001b[0;34m.\u001b[0m\u001b[0mvalues\u001b[0m\u001b[0;34m,\u001b[0m \u001b[0mtrain_y\u001b[0m\u001b[0;34m.\u001b[0m\u001b[0mvalues\u001b[0m\u001b[0;34m,\u001b[0m \u001b[0mlookback\u001b[0m\u001b[0;34m,\u001b[0m \u001b[0mhorizon\u001b[0m\u001b[0;34m,\u001b[0m \u001b[0mn_features\u001b[0m\u001b[0;34m,\u001b[0m \u001b[0mn_out\u001b[0m\u001b[0;34m)\u001b[0m\u001b[0;34m\u001b[0m\u001b[0;34m\u001b[0m\u001b[0m\n\u001b[0m\u001b[1;32m      7\u001b[0m \u001b[0;31m#train_pop_temp, y_pop = utils.temporalize_data(train_pop.values, train_y, lookback, horizon, len(train_pop.columns), n_out)\u001b[0m\u001b[0;34m\u001b[0m\u001b[0;34m\u001b[0m\u001b[0;34m\u001b[0m\u001b[0m\n\u001b[1;32m      8\u001b[0m \u001b[0;34m\u001b[0m\u001b[0m\n",
      "\u001b[0;32m~/phm2021_data_challenge/package/utils.py\u001b[0m in \u001b[0;36mtemporalize_data\u001b[0;34m(inputs, outputs, lookback, horizon, n_features, n_out)\u001b[0m\n\u001b[1;32m    320\u001b[0m         \u001b[0;32mfor\u001b[0m \u001b[0mj\u001b[0m \u001b[0;32min\u001b[0m \u001b[0mrange\u001b[0m\u001b[0;34m(\u001b[0m\u001b[0;36m0\u001b[0m\u001b[0;34m,\u001b[0m \u001b[0mlookback\u001b[0m\u001b[0;34m)\u001b[0m\u001b[0;34m:\u001b[0m\u001b[0;34m\u001b[0m\u001b[0;34m\u001b[0m\u001b[0m\n\u001b[1;32m    321\u001b[0m             \u001b[0;31m################# temp stacks sequential observations and creates a single sample\u001b[0m\u001b[0;34m\u001b[0m\u001b[0;34m\u001b[0m\u001b[0;34m\u001b[0m\u001b[0m\n\u001b[0;32m--> 322\u001b[0;31m             \u001b[0mtemp\u001b[0m\u001b[0;34m.\u001b[0m\u001b[0mappend\u001b[0m\u001b[0;34m(\u001b[0m\u001b[0minputs\u001b[0m\u001b[0;34m[\u001b[0m\u001b[0;34m[\u001b[0m\u001b[0mi\u001b[0m \u001b[0;34m+\u001b[0m \u001b[0mj\u001b[0m\u001b[0;34m]\u001b[0m\u001b[0;34m]\u001b[0m\u001b[0;34m)\u001b[0m\u001b[0;34m\u001b[0m\u001b[0;34m\u001b[0m\u001b[0m\n\u001b[0m\u001b[1;32m    323\u001b[0m         \u001b[0;31m################# X_out[0] is now a single sample array with the first [0 - <lookback>] observations\u001b[0m\u001b[0;34m\u001b[0m\u001b[0;34m\u001b[0m\u001b[0;34m\u001b[0m\u001b[0m\n\u001b[1;32m    324\u001b[0m         \u001b[0mX_out\u001b[0m\u001b[0;34m.\u001b[0m\u001b[0mappend\u001b[0m\u001b[0;34m(\u001b[0m\u001b[0mtemp\u001b[0m\u001b[0;34m)\u001b[0m\u001b[0;34m\u001b[0m\u001b[0;34m\u001b[0m\u001b[0m\n",
      "\u001b[0;31mKeyboardInterrupt\u001b[0m: "
     ]
    }
   ],
   "source": [
    "lookback = 100\n",
    "horizon = 1\n",
    "n_out = 1\n",
    "n_features = train_df[important_features].shape[1]\n",
    "\n",
    "X_train, y_train = utils.temporalize_data(train_df[important_features].values, train_y.values, lookback, horizon, n_features, n_out)\n",
    "#train_pop_temp, y_pop = utils.temporalize_data(train_pop.values, train_y, lookback, horizon, len(train_pop.columns), n_out)\n",
    "\n",
    "# X_val, y_val = utils.temporalize_data(val_df.values, val_y, lookback, horizon, n_features, n_out)\n",
    "# val_pop_temp, y_pop = utils.temporalize_data(val_pop.values, val_y, lookback, horizon, n_features, n_out)\n",
    "\n",
    "# X_test, y_test = utils.temporalize_data(test_df.values, test_y, lookback, horizon, n_features, n_out)\n",
    "# test_pop_temp, y_pop = utils.temporalize_data(test_pop.values, test_y, lookback, horizon, n_features, n_out)"
   ]
  },
  {
   "cell_type": "markdown",
   "id": "439df233-7f0b-49be-9be7-192f6d30946b",
   "metadata": {},
   "source": [
    "# TIM check gpu memory first"
   ]
  },
  {
   "cell_type": "code",
   "execution_count": 7,
   "id": "9dbebe3b-ae1b-468e-b65b-28b5ac26af4f",
   "metadata": {},
   "outputs": [
    {
     "ename": "NameError",
     "evalue": "name 'lookback' is not defined",
     "output_type": "error",
     "traceback": [
      "\u001b[0;31m---------------------------------------------------------------------------\u001b[0m",
      "\u001b[0;31mNameError\u001b[0m                                 Traceback (most recent call last)",
      "\u001b[0;32m/tmp/ipykernel_3790/387263451.py\u001b[0m in \u001b[0;36m<module>\u001b[0;34m\u001b[0m\n\u001b[0;32m----> 1\u001b[0;31m \u001b[0minput_shape\u001b[0m \u001b[0;34m=\u001b[0m \u001b[0;34m(\u001b[0m\u001b[0mlookback\u001b[0m\u001b[0;34m,\u001b[0m \u001b[0mn_features\u001b[0m\u001b[0;34m)\u001b[0m\u001b[0;34m\u001b[0m\u001b[0;34m\u001b[0m\u001b[0m\n\u001b[0m\u001b[1;32m      2\u001b[0m \u001b[0mmy_tuning\u001b[0m \u001b[0;34m=\u001b[0m \u001b[0mtuning\u001b[0m\u001b[0;34m.\u001b[0m\u001b[0mTuning\u001b[0m\u001b[0;34m(\u001b[0m\u001b[0minput_shape\u001b[0m\u001b[0;34m,\u001b[0m \u001b[0mn_out\u001b[0m\u001b[0;34m)\u001b[0m\u001b[0;34m\u001b[0m\u001b[0;34m\u001b[0m\u001b[0m\n\u001b[1;32m      3\u001b[0m bayesian_tuning = my_tuning.bayesian_search(objective='root_mean_squared_error',\n\u001b[1;32m      4\u001b[0m                                             \u001b[0mmode\u001b[0m\u001b[0;34m=\u001b[0m\u001b[0;34m'min'\u001b[0m\u001b[0;34m,\u001b[0m\u001b[0;34m\u001b[0m\u001b[0;34m\u001b[0m\u001b[0m\n\u001b[1;32m      5\u001b[0m                                             \u001b[0mmax_trials\u001b[0m\u001b[0;34m=\u001b[0m\u001b[0;36m256\u001b[0m\u001b[0;34m,\u001b[0m\u001b[0;34m\u001b[0m\u001b[0;34m\u001b[0m\u001b[0m\n",
      "\u001b[0;31mNameError\u001b[0m: name 'lookback' is not defined"
     ]
    }
   ],
   "source": [
    "\n",
    "input_shape = (lookback, n_features)\n",
    "my_tuning = tuning.Tuning(input_shape, n_out)\n",
    "bayesian_tuning = my_tuning.bayesian_search(objective='root_mean_squared_error',\n",
    "                                            mode='min',\n",
    "                                            max_trials=256,\n",
    "                                            alpha=.00025,\n",
    "                                            beta=2.75,\n",
    "                                            epochs=5,\n",
    "                                            executions_per_trial=1,\n",
    "                                            hypermodel=my_tuning.create_lstm_hypermodel,\n",
    "                                            directory='logs/ncmapss2/bayesiansearch',\n",
    "                                            project_name='lstm',\n",
    "                                            logger=TensorBoardLogger(\n",
    "                                                metrics=['root_mean_squared_error'],\n",
    "                                                         logdir='logs/ncmapss2/hparams'\n",
    "                                            ),\n",
    "                                            X=X_train,\n",
    "                                            y=y_train)\n",
    "\n",
    "bayesian_tuning_params = bayesian_tuning.get_best_hyperparameters(num_trials=1)[0]\n",
    "bayesian_tuning_model = bayesian_tuning.get_best_models()[0]\n",
    "print(bayesian_tuning_params.values)\n",
    "bayesian_tuning_model.summary()"
   ]
  },
  {
   "cell_type": "code",
   "execution_count": null,
   "id": "97813c3c-5793-42ef-b427-12bbe3d0e6ae",
   "metadata": {},
   "outputs": [],
   "source": []
  },
  {
   "cell_type": "code",
   "execution_count": null,
   "id": "7f8a76dd-17a9-4a09-916f-6e0a9e78a715",
   "metadata": {},
   "outputs": [],
   "source": []
  },
  {
   "cell_type": "code",
   "execution_count": null,
   "id": "a161c58a-e2d2-4279-86b4-4abe627483a7",
   "metadata": {},
   "outputs": [],
   "source": []
  }
 ],
 "metadata": {
  "kernelspec": {
   "display_name": "Python 3 (ipykernel)",
   "language": "python",
   "name": "python3"
  },
  "language_info": {
   "codemirror_mode": {
    "name": "ipython",
    "version": 3
   },
   "file_extension": ".py",
   "mimetype": "text/x-python",
   "name": "python",
   "nbconvert_exporter": "python",
   "pygments_lexer": "ipython3",
   "version": "3.8.12"
  }
 },
 "nbformat": 4,
 "nbformat_minor": 5
}
